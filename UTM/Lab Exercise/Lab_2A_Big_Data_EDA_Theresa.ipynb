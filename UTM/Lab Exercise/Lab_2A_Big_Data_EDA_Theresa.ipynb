{
  "nbformat": 4,
  "nbformat_minor": 0,
  "metadata": {
    "colab": {
      "provenance": [],
      "mount_file_id": "1F0ZWU9qa-qCl7vD2LWZ3cejxtP-fZzde",
      "authorship_tag": "ABX9TyOrj4+Md3WBtN8mGrU43dfL",
      "include_colab_link": true
    },
    "kernelspec": {
      "name": "python3",
      "display_name": "Python 3"
    },
    "language_info": {
      "name": "python"
    }
  },
  "cells": [
    {
      "cell_type": "markdown",
      "metadata": {
        "id": "view-in-github",
        "colab_type": "text"
      },
      "source": [
        "<a href=\"https://colab.research.google.com/github/Theresa20191/Theresa/blob/main/UTM/Lab%20Exercise/Lab_2A_Big_Data_EDA_Theresa.ipynb\" target=\"_parent\"><img src=\"https://colab.research.google.com/assets/colab-badge.svg\" alt=\"Open In Colab\"/></a>"
      ]
    },
    {
      "cell_type": "markdown",
      "source": [
        "# <span style=\"color:blue; font-family:Arial;\">Cleaning and Analyzing the kiva dataset</span>\n",
        "\n",
        "##Name: Lee Seow Ming Theresa\n",
        "##Matric no.: MCS231013\n",
        "\n",
        "<div style=\"display:flex; align-items:center;\">\n",
        "    <div style=\"flex:50%; padding:5px;\">\n",
        "        <img src=\"https://www.kiva.org/cps/logos/kiva_logo_filled.png\" style=\"width:100%\">\n",
        "    </div>\n",
        "    <div style=\"flex:50%; padding:5px; text-align:left; align-self: center;\">\n",
        "        <p style=\"color:black; font-family:Arial, sans-serif; font-weight: bold;\">Kiva.org is an online crowdfunding platform. Kiva uses crowdfunded microloans as a force for good to create a space where people can have a one-to-one impact, and together, expand financial access for all.\n",
        "Kiva loans give people the power and resources to build their chosen life.\n",
        "Kiva has funded over $1.5 billion in loans to help more than 2 million people build better lives for themselves and their families.\n",
        "My notebook will try to analyze Kiva data to highlight valuable ideas to help improve their performance</p>\n",
        "    </div>\n",
        "</div>"
      ],
      "metadata": {
        "id": "4qHlSws_khK1"
      }
    },
    {
      "cell_type": "markdown",
      "source": [
        "## <span style=\"color:Brown; font-family:Arial;\">Importing Libraries</span>"
      ],
      "metadata": {
        "id": "34Sk5W4FxO_R"
      }
    },
    {
      "cell_type": "code",
      "execution_count": null,
      "metadata": {
        "id": "Q3r5fp-Gip_a"
      },
      "outputs": [],
      "source": [
        "import numpy as np\n",
        "import pandas as pd\n",
        "import matplotlib.pyplot as plt\n",
        "import seaborn as sns\n",
        "import plotly.express as px\n",
        "%matplotlib inline\n",
        "sns.set()\n",
        "import re"
      ]
    },
    {
      "cell_type": "code",
      "source": [
        "sns.set_style('ticks')\n",
        "sns.set_palette('RdBu')"
      ],
      "metadata": {
        "id": "WTSgWRh_xQss"
      },
      "execution_count": null,
      "outputs": []
    },
    {
      "cell_type": "markdown",
      "source": [
        "## <span style=\"color:Brown; font-family:Arial;\">Loading Data</span>"
      ],
      "metadata": {
        "id": "FIvJW7hvxUqa"
      }
    },
    {
      "cell_type": "code",
      "source": [
        "# Install the Kaggle API package\n",
        "!pip install -q kaggle\n",
        "\n",
        "from google.colab import files\n",
        "\n",
        "# Upload the Kaggle API key\n",
        "uploaded = files.upload()\n",
        "\n",
        "# create a kaggle folder\n",
        "!mkdir -p ~/.kaggle\n",
        "\n",
        "# copy kaggle.json to the folder created\n",
        "!cp kaggle.json ~/.kaggle/\n",
        "\n",
        "# Persimission for json to act\n",
        "!chmod 600 ~/.kaggle/kaggle.json\n",
        "\n",
        "!kaggle datasets download -d kiva/data-science-for-good-kiva-crowdfunding\n",
        "\n",
        "!unzip -q /content/data-science-for-good-kiva-crowdfunding.zip"
      ],
      "metadata": {
        "colab": {
          "base_uri": "https://localhost:8080/",
          "height": 117
        },
        "id": "A3EPuwVSxg_-",
        "outputId": "e209ffee-3495-4256-d399-e3e645a1c462"
      },
      "execution_count": null,
      "outputs": [
        {
          "output_type": "display_data",
          "data": {
            "text/plain": [
              "<IPython.core.display.HTML object>"
            ],
            "text/html": [
              "\n",
              "     <input type=\"file\" id=\"files-7d42cd12-1bd2-48cf-9246-5e6cdc150b2f\" name=\"files[]\" multiple disabled\n",
              "        style=\"border:none\" />\n",
              "     <output id=\"result-7d42cd12-1bd2-48cf-9246-5e6cdc150b2f\">\n",
              "      Upload widget is only available when the cell has been executed in the\n",
              "      current browser session. Please rerun this cell to enable.\n",
              "      </output>\n",
              "      <script>// Copyright 2017 Google LLC\n",
              "//\n",
              "// Licensed under the Apache License, Version 2.0 (the \"License\");\n",
              "// you may not use this file except in compliance with the License.\n",
              "// You may obtain a copy of the License at\n",
              "//\n",
              "//      http://www.apache.org/licenses/LICENSE-2.0\n",
              "//\n",
              "// Unless required by applicable law or agreed to in writing, software\n",
              "// distributed under the License is distributed on an \"AS IS\" BASIS,\n",
              "// WITHOUT WARRANTIES OR CONDITIONS OF ANY KIND, either express or implied.\n",
              "// See the License for the specific language governing permissions and\n",
              "// limitations under the License.\n",
              "\n",
              "/**\n",
              " * @fileoverview Helpers for google.colab Python module.\n",
              " */\n",
              "(function(scope) {\n",
              "function span(text, styleAttributes = {}) {\n",
              "  const element = document.createElement('span');\n",
              "  element.textContent = text;\n",
              "  for (const key of Object.keys(styleAttributes)) {\n",
              "    element.style[key] = styleAttributes[key];\n",
              "  }\n",
              "  return element;\n",
              "}\n",
              "\n",
              "// Max number of bytes which will be uploaded at a time.\n",
              "const MAX_PAYLOAD_SIZE = 100 * 1024;\n",
              "\n",
              "function _uploadFiles(inputId, outputId) {\n",
              "  const steps = uploadFilesStep(inputId, outputId);\n",
              "  const outputElement = document.getElementById(outputId);\n",
              "  // Cache steps on the outputElement to make it available for the next call\n",
              "  // to uploadFilesContinue from Python.\n",
              "  outputElement.steps = steps;\n",
              "\n",
              "  return _uploadFilesContinue(outputId);\n",
              "}\n",
              "\n",
              "// This is roughly an async generator (not supported in the browser yet),\n",
              "// where there are multiple asynchronous steps and the Python side is going\n",
              "// to poll for completion of each step.\n",
              "// This uses a Promise to block the python side on completion of each step,\n",
              "// then passes the result of the previous step as the input to the next step.\n",
              "function _uploadFilesContinue(outputId) {\n",
              "  const outputElement = document.getElementById(outputId);\n",
              "  const steps = outputElement.steps;\n",
              "\n",
              "  const next = steps.next(outputElement.lastPromiseValue);\n",
              "  return Promise.resolve(next.value.promise).then((value) => {\n",
              "    // Cache the last promise value to make it available to the next\n",
              "    // step of the generator.\n",
              "    outputElement.lastPromiseValue = value;\n",
              "    return next.value.response;\n",
              "  });\n",
              "}\n",
              "\n",
              "/**\n",
              " * Generator function which is called between each async step of the upload\n",
              " * process.\n",
              " * @param {string} inputId Element ID of the input file picker element.\n",
              " * @param {string} outputId Element ID of the output display.\n",
              " * @return {!Iterable<!Object>} Iterable of next steps.\n",
              " */\n",
              "function* uploadFilesStep(inputId, outputId) {\n",
              "  const inputElement = document.getElementById(inputId);\n",
              "  inputElement.disabled = false;\n",
              "\n",
              "  const outputElement = document.getElementById(outputId);\n",
              "  outputElement.innerHTML = '';\n",
              "\n",
              "  const pickedPromise = new Promise((resolve) => {\n",
              "    inputElement.addEventListener('change', (e) => {\n",
              "      resolve(e.target.files);\n",
              "    });\n",
              "  });\n",
              "\n",
              "  const cancel = document.createElement('button');\n",
              "  inputElement.parentElement.appendChild(cancel);\n",
              "  cancel.textContent = 'Cancel upload';\n",
              "  const cancelPromise = new Promise((resolve) => {\n",
              "    cancel.onclick = () => {\n",
              "      resolve(null);\n",
              "    };\n",
              "  });\n",
              "\n",
              "  // Wait for the user to pick the files.\n",
              "  const files = yield {\n",
              "    promise: Promise.race([pickedPromise, cancelPromise]),\n",
              "    response: {\n",
              "      action: 'starting',\n",
              "    }\n",
              "  };\n",
              "\n",
              "  cancel.remove();\n",
              "\n",
              "  // Disable the input element since further picks are not allowed.\n",
              "  inputElement.disabled = true;\n",
              "\n",
              "  if (!files) {\n",
              "    return {\n",
              "      response: {\n",
              "        action: 'complete',\n",
              "      }\n",
              "    };\n",
              "  }\n",
              "\n",
              "  for (const file of files) {\n",
              "    const li = document.createElement('li');\n",
              "    li.append(span(file.name, {fontWeight: 'bold'}));\n",
              "    li.append(span(\n",
              "        `(${file.type || 'n/a'}) - ${file.size} bytes, ` +\n",
              "        `last modified: ${\n",
              "            file.lastModifiedDate ? file.lastModifiedDate.toLocaleDateString() :\n",
              "                                    'n/a'} - `));\n",
              "    const percent = span('0% done');\n",
              "    li.appendChild(percent);\n",
              "\n",
              "    outputElement.appendChild(li);\n",
              "\n",
              "    const fileDataPromise = new Promise((resolve) => {\n",
              "      const reader = new FileReader();\n",
              "      reader.onload = (e) => {\n",
              "        resolve(e.target.result);\n",
              "      };\n",
              "      reader.readAsArrayBuffer(file);\n",
              "    });\n",
              "    // Wait for the data to be ready.\n",
              "    let fileData = yield {\n",
              "      promise: fileDataPromise,\n",
              "      response: {\n",
              "        action: 'continue',\n",
              "      }\n",
              "    };\n",
              "\n",
              "    // Use a chunked sending to avoid message size limits. See b/62115660.\n",
              "    let position = 0;\n",
              "    do {\n",
              "      const length = Math.min(fileData.byteLength - position, MAX_PAYLOAD_SIZE);\n",
              "      const chunk = new Uint8Array(fileData, position, length);\n",
              "      position += length;\n",
              "\n",
              "      const base64 = btoa(String.fromCharCode.apply(null, chunk));\n",
              "      yield {\n",
              "        response: {\n",
              "          action: 'append',\n",
              "          file: file.name,\n",
              "          data: base64,\n",
              "        },\n",
              "      };\n",
              "\n",
              "      let percentDone = fileData.byteLength === 0 ?\n",
              "          100 :\n",
              "          Math.round((position / fileData.byteLength) * 100);\n",
              "      percent.textContent = `${percentDone}% done`;\n",
              "\n",
              "    } while (position < fileData.byteLength);\n",
              "  }\n",
              "\n",
              "  // All done.\n",
              "  yield {\n",
              "    response: {\n",
              "      action: 'complete',\n",
              "    }\n",
              "  };\n",
              "}\n",
              "\n",
              "scope.google = scope.google || {};\n",
              "scope.google.colab = scope.google.colab || {};\n",
              "scope.google.colab._files = {\n",
              "  _uploadFiles,\n",
              "  _uploadFilesContinue,\n",
              "};\n",
              "})(self);\n",
              "</script> "
            ]
          },
          "metadata": {}
        },
        {
          "output_type": "stream",
          "name": "stdout",
          "text": [
            "Saving kaggle.json to kaggle.json\n",
            "Downloading data-science-for-good-kiva-crowdfunding.zip to /content\n",
            " 60% 25.0M/41.9M [00:00<00:00, 103MB/s] \n",
            "100% 41.9M/41.9M [00:00<00:00, 115MB/s]\n"
          ]
        }
      ]
    },
    {
      "cell_type": "code",
      "source": [
        "import pandas as pd\n",
        "kivaloans = pd.read_csv('/content/kiva_loans.csv', parse_dates=True, index_col=['date'])"
      ],
      "metadata": {
        "id": "cpjZSh0B0rG2"
      },
      "execution_count": null,
      "outputs": []
    },
    {
      "cell_type": "code",
      "source": [
        "partners = pd.read_csv('/content/loan_themes_by_region.csv')"
      ],
      "metadata": {
        "id": "6QYLMNSXxn6T"
      },
      "execution_count": null,
      "outputs": []
    },
    {
      "cell_type": "markdown",
      "source": [
        "## <span style=\"color:Brown; font-family:Arial;\">Discover and Clean Data</span>"
      ],
      "metadata": {
        "id": "CBuH7jDB02YC"
      }
    },
    {
      "cell_type": "code",
      "source": [
        "# Display the first 4 rows of the DataFrame\n",
        "kivaloans.head(5)"
      ],
      "metadata": {
        "colab": {
          "base_uri": "https://localhost:8080/",
          "height": 597
        },
        "id": "Wedz9Xvfz6e9",
        "outputId": "5f2db9c6-a144-4bf2-f5af-30ac767bc2ab"
      },
      "execution_count": null,
      "outputs": [
        {
          "output_type": "execute_result",
          "data": {
            "text/plain": [
              "                id  funded_amount  loan_amount             activity  \\\n",
              "date                                                                  \n",
              "2014-01-01  653051          300.0        300.0  Fruits & Vegetables   \n",
              "2014-01-01  653053          575.0        575.0             Rickshaw   \n",
              "2014-01-01  653068          150.0        150.0       Transportation   \n",
              "2014-01-01  653063          200.0        200.0           Embroidery   \n",
              "2014-01-01  653084          400.0        400.0           Milk Sales   \n",
              "\n",
              "                    sector                                                use  \\\n",
              "date                                                                            \n",
              "2014-01-01            Food            To buy seasonal, fresh fruits to sell.    \n",
              "2014-01-01  Transportation  to repair and maintain the auto rickshaw used ...   \n",
              "2014-01-01  Transportation  To repair their old cycle-van and buy another ...   \n",
              "2014-01-01            Arts  to purchase an embroidery machine and a variet...   \n",
              "2014-01-01            Food                           to purchase one buffalo.   \n",
              "\n",
              "           country_code   country        region currency  partner_id  \\\n",
              "date                                                                   \n",
              "2014-01-01           PK  Pakistan        Lahore      PKR       247.0   \n",
              "2014-01-01           PK  Pakistan        Lahore      PKR       247.0   \n",
              "2014-01-01           IN     India     Maynaguri      INR       334.0   \n",
              "2014-01-01           PK  Pakistan        Lahore      PKR       247.0   \n",
              "2014-01-01           PK  Pakistan  Abdul Hakeem      PKR       245.0   \n",
              "\n",
              "                          posted_time             disbursed_time  \\\n",
              "date                                                               \n",
              "2014-01-01  2014-01-01 06:12:39+00:00  2013-12-17 08:00:00+00:00   \n",
              "2014-01-01  2014-01-01 06:51:08+00:00  2013-12-17 08:00:00+00:00   \n",
              "2014-01-01  2014-01-01 09:58:07+00:00  2013-12-17 08:00:00+00:00   \n",
              "2014-01-01  2014-01-01 08:03:11+00:00  2013-12-24 08:00:00+00:00   \n",
              "2014-01-01  2014-01-01 11:53:19+00:00  2013-12-17 08:00:00+00:00   \n",
              "\n",
              "                          funded_time  term_in_months  lender_count  \\\n",
              "date                                                                  \n",
              "2014-01-01  2014-01-02 10:06:32+00:00            12.0            12   \n",
              "2014-01-01  2014-01-02 09:17:23+00:00            11.0            14   \n",
              "2014-01-01  2014-01-01 16:01:36+00:00            43.0             6   \n",
              "2014-01-01  2014-01-01 13:00:00+00:00            11.0             8   \n",
              "2014-01-01  2014-01-01 19:18:51+00:00            14.0            16   \n",
              "\n",
              "                                    tags borrower_genders repayment_interval  \n",
              "date                                                                          \n",
              "2014-01-01                           NaN           female          irregular  \n",
              "2014-01-01                           NaN   female, female          irregular  \n",
              "2014-01-01  user_favorite, user_favorite           female             bullet  \n",
              "2014-01-01                           NaN           female          irregular  \n",
              "2014-01-01                           NaN           female            monthly  "
            ],
            "text/html": [
              "\n",
              "  <div id=\"df-eca5eb2b-6b9e-4f2a-8afd-d6734880724a\" class=\"colab-df-container\">\n",
              "    <div>\n",
              "<style scoped>\n",
              "    .dataframe tbody tr th:only-of-type {\n",
              "        vertical-align: middle;\n",
              "    }\n",
              "\n",
              "    .dataframe tbody tr th {\n",
              "        vertical-align: top;\n",
              "    }\n",
              "\n",
              "    .dataframe thead th {\n",
              "        text-align: right;\n",
              "    }\n",
              "</style>\n",
              "<table border=\"1\" class=\"dataframe\">\n",
              "  <thead>\n",
              "    <tr style=\"text-align: right;\">\n",
              "      <th></th>\n",
              "      <th>id</th>\n",
              "      <th>funded_amount</th>\n",
              "      <th>loan_amount</th>\n",
              "      <th>activity</th>\n",
              "      <th>sector</th>\n",
              "      <th>use</th>\n",
              "      <th>country_code</th>\n",
              "      <th>country</th>\n",
              "      <th>region</th>\n",
              "      <th>currency</th>\n",
              "      <th>partner_id</th>\n",
              "      <th>posted_time</th>\n",
              "      <th>disbursed_time</th>\n",
              "      <th>funded_time</th>\n",
              "      <th>term_in_months</th>\n",
              "      <th>lender_count</th>\n",
              "      <th>tags</th>\n",
              "      <th>borrower_genders</th>\n",
              "      <th>repayment_interval</th>\n",
              "    </tr>\n",
              "    <tr>\n",
              "      <th>date</th>\n",
              "      <th></th>\n",
              "      <th></th>\n",
              "      <th></th>\n",
              "      <th></th>\n",
              "      <th></th>\n",
              "      <th></th>\n",
              "      <th></th>\n",
              "      <th></th>\n",
              "      <th></th>\n",
              "      <th></th>\n",
              "      <th></th>\n",
              "      <th></th>\n",
              "      <th></th>\n",
              "      <th></th>\n",
              "      <th></th>\n",
              "      <th></th>\n",
              "      <th></th>\n",
              "      <th></th>\n",
              "      <th></th>\n",
              "    </tr>\n",
              "  </thead>\n",
              "  <tbody>\n",
              "    <tr>\n",
              "      <th>2014-01-01</th>\n",
              "      <td>653051</td>\n",
              "      <td>300.0</td>\n",
              "      <td>300.0</td>\n",
              "      <td>Fruits &amp; Vegetables</td>\n",
              "      <td>Food</td>\n",
              "      <td>To buy seasonal, fresh fruits to sell.</td>\n",
              "      <td>PK</td>\n",
              "      <td>Pakistan</td>\n",
              "      <td>Lahore</td>\n",
              "      <td>PKR</td>\n",
              "      <td>247.0</td>\n",
              "      <td>2014-01-01 06:12:39+00:00</td>\n",
              "      <td>2013-12-17 08:00:00+00:00</td>\n",
              "      <td>2014-01-02 10:06:32+00:00</td>\n",
              "      <td>12.0</td>\n",
              "      <td>12</td>\n",
              "      <td>NaN</td>\n",
              "      <td>female</td>\n",
              "      <td>irregular</td>\n",
              "    </tr>\n",
              "    <tr>\n",
              "      <th>2014-01-01</th>\n",
              "      <td>653053</td>\n",
              "      <td>575.0</td>\n",
              "      <td>575.0</td>\n",
              "      <td>Rickshaw</td>\n",
              "      <td>Transportation</td>\n",
              "      <td>to repair and maintain the auto rickshaw used ...</td>\n",
              "      <td>PK</td>\n",
              "      <td>Pakistan</td>\n",
              "      <td>Lahore</td>\n",
              "      <td>PKR</td>\n",
              "      <td>247.0</td>\n",
              "      <td>2014-01-01 06:51:08+00:00</td>\n",
              "      <td>2013-12-17 08:00:00+00:00</td>\n",
              "      <td>2014-01-02 09:17:23+00:00</td>\n",
              "      <td>11.0</td>\n",
              "      <td>14</td>\n",
              "      <td>NaN</td>\n",
              "      <td>female, female</td>\n",
              "      <td>irregular</td>\n",
              "    </tr>\n",
              "    <tr>\n",
              "      <th>2014-01-01</th>\n",
              "      <td>653068</td>\n",
              "      <td>150.0</td>\n",
              "      <td>150.0</td>\n",
              "      <td>Transportation</td>\n",
              "      <td>Transportation</td>\n",
              "      <td>To repair their old cycle-van and buy another ...</td>\n",
              "      <td>IN</td>\n",
              "      <td>India</td>\n",
              "      <td>Maynaguri</td>\n",
              "      <td>INR</td>\n",
              "      <td>334.0</td>\n",
              "      <td>2014-01-01 09:58:07+00:00</td>\n",
              "      <td>2013-12-17 08:00:00+00:00</td>\n",
              "      <td>2014-01-01 16:01:36+00:00</td>\n",
              "      <td>43.0</td>\n",
              "      <td>6</td>\n",
              "      <td>user_favorite, user_favorite</td>\n",
              "      <td>female</td>\n",
              "      <td>bullet</td>\n",
              "    </tr>\n",
              "    <tr>\n",
              "      <th>2014-01-01</th>\n",
              "      <td>653063</td>\n",
              "      <td>200.0</td>\n",
              "      <td>200.0</td>\n",
              "      <td>Embroidery</td>\n",
              "      <td>Arts</td>\n",
              "      <td>to purchase an embroidery machine and a variet...</td>\n",
              "      <td>PK</td>\n",
              "      <td>Pakistan</td>\n",
              "      <td>Lahore</td>\n",
              "      <td>PKR</td>\n",
              "      <td>247.0</td>\n",
              "      <td>2014-01-01 08:03:11+00:00</td>\n",
              "      <td>2013-12-24 08:00:00+00:00</td>\n",
              "      <td>2014-01-01 13:00:00+00:00</td>\n",
              "      <td>11.0</td>\n",
              "      <td>8</td>\n",
              "      <td>NaN</td>\n",
              "      <td>female</td>\n",
              "      <td>irregular</td>\n",
              "    </tr>\n",
              "    <tr>\n",
              "      <th>2014-01-01</th>\n",
              "      <td>653084</td>\n",
              "      <td>400.0</td>\n",
              "      <td>400.0</td>\n",
              "      <td>Milk Sales</td>\n",
              "      <td>Food</td>\n",
              "      <td>to purchase one buffalo.</td>\n",
              "      <td>PK</td>\n",
              "      <td>Pakistan</td>\n",
              "      <td>Abdul Hakeem</td>\n",
              "      <td>PKR</td>\n",
              "      <td>245.0</td>\n",
              "      <td>2014-01-01 11:53:19+00:00</td>\n",
              "      <td>2013-12-17 08:00:00+00:00</td>\n",
              "      <td>2014-01-01 19:18:51+00:00</td>\n",
              "      <td>14.0</td>\n",
              "      <td>16</td>\n",
              "      <td>NaN</td>\n",
              "      <td>female</td>\n",
              "      <td>monthly</td>\n",
              "    </tr>\n",
              "  </tbody>\n",
              "</table>\n",
              "</div>\n",
              "    <div class=\"colab-df-buttons\">\n",
              "\n",
              "  <div class=\"colab-df-container\">\n",
              "    <button class=\"colab-df-convert\" onclick=\"convertToInteractive('df-eca5eb2b-6b9e-4f2a-8afd-d6734880724a')\"\n",
              "            title=\"Convert this dataframe to an interactive table.\"\n",
              "            style=\"display:none;\">\n",
              "\n",
              "  <svg xmlns=\"http://www.w3.org/2000/svg\" height=\"24px\" viewBox=\"0 -960 960 960\">\n",
              "    <path d=\"M120-120v-720h720v720H120Zm60-500h600v-160H180v160Zm220 220h160v-160H400v160Zm0 220h160v-160H400v160ZM180-400h160v-160H180v160Zm440 0h160v-160H620v160ZM180-180h160v-160H180v160Zm440 0h160v-160H620v160Z\"/>\n",
              "  </svg>\n",
              "    </button>\n",
              "\n",
              "  <style>\n",
              "    .colab-df-container {\n",
              "      display:flex;\n",
              "      gap: 12px;\n",
              "    }\n",
              "\n",
              "    .colab-df-convert {\n",
              "      background-color: #E8F0FE;\n",
              "      border: none;\n",
              "      border-radius: 50%;\n",
              "      cursor: pointer;\n",
              "      display: none;\n",
              "      fill: #1967D2;\n",
              "      height: 32px;\n",
              "      padding: 0 0 0 0;\n",
              "      width: 32px;\n",
              "    }\n",
              "\n",
              "    .colab-df-convert:hover {\n",
              "      background-color: #E2EBFA;\n",
              "      box-shadow: 0px 1px 2px rgba(60, 64, 67, 0.3), 0px 1px 3px 1px rgba(60, 64, 67, 0.15);\n",
              "      fill: #174EA6;\n",
              "    }\n",
              "\n",
              "    .colab-df-buttons div {\n",
              "      margin-bottom: 4px;\n",
              "    }\n",
              "\n",
              "    [theme=dark] .colab-df-convert {\n",
              "      background-color: #3B4455;\n",
              "      fill: #D2E3FC;\n",
              "    }\n",
              "\n",
              "    [theme=dark] .colab-df-convert:hover {\n",
              "      background-color: #434B5C;\n",
              "      box-shadow: 0px 1px 3px 1px rgba(0, 0, 0, 0.15);\n",
              "      filter: drop-shadow(0px 1px 2px rgba(0, 0, 0, 0.3));\n",
              "      fill: #FFFFFF;\n",
              "    }\n",
              "  </style>\n",
              "\n",
              "    <script>\n",
              "      const buttonEl =\n",
              "        document.querySelector('#df-eca5eb2b-6b9e-4f2a-8afd-d6734880724a button.colab-df-convert');\n",
              "      buttonEl.style.display =\n",
              "        google.colab.kernel.accessAllowed ? 'block' : 'none';\n",
              "\n",
              "      async function convertToInteractive(key) {\n",
              "        const element = document.querySelector('#df-eca5eb2b-6b9e-4f2a-8afd-d6734880724a');\n",
              "        const dataTable =\n",
              "          await google.colab.kernel.invokeFunction('convertToInteractive',\n",
              "                                                    [key], {});\n",
              "        if (!dataTable) return;\n",
              "\n",
              "        const docLinkHtml = 'Like what you see? Visit the ' +\n",
              "          '<a target=\"_blank\" href=https://colab.research.google.com/notebooks/data_table.ipynb>data table notebook</a>'\n",
              "          + ' to learn more about interactive tables.';\n",
              "        element.innerHTML = '';\n",
              "        dataTable['output_type'] = 'display_data';\n",
              "        await google.colab.output.renderOutput(dataTable, element);\n",
              "        const docLink = document.createElement('div');\n",
              "        docLink.innerHTML = docLinkHtml;\n",
              "        element.appendChild(docLink);\n",
              "      }\n",
              "    </script>\n",
              "  </div>\n",
              "\n",
              "\n",
              "<div id=\"df-e042d052-6874-4c74-bfca-e9b32ae52f83\">\n",
              "  <button class=\"colab-df-quickchart\" onclick=\"quickchart('df-e042d052-6874-4c74-bfca-e9b32ae52f83')\"\n",
              "            title=\"Suggest charts\"\n",
              "            style=\"display:none;\">\n",
              "\n",
              "<svg xmlns=\"http://www.w3.org/2000/svg\" height=\"24px\"viewBox=\"0 0 24 24\"\n",
              "     width=\"24px\">\n",
              "    <g>\n",
              "        <path d=\"M19 3H5c-1.1 0-2 .9-2 2v14c0 1.1.9 2 2 2h14c1.1 0 2-.9 2-2V5c0-1.1-.9-2-2-2zM9 17H7v-7h2v7zm4 0h-2V7h2v10zm4 0h-2v-4h2v4z\"/>\n",
              "    </g>\n",
              "</svg>\n",
              "  </button>\n",
              "\n",
              "<style>\n",
              "  .colab-df-quickchart {\n",
              "      --bg-color: #E8F0FE;\n",
              "      --fill-color: #1967D2;\n",
              "      --hover-bg-color: #E2EBFA;\n",
              "      --hover-fill-color: #174EA6;\n",
              "      --disabled-fill-color: #AAA;\n",
              "      --disabled-bg-color: #DDD;\n",
              "  }\n",
              "\n",
              "  [theme=dark] .colab-df-quickchart {\n",
              "      --bg-color: #3B4455;\n",
              "      --fill-color: #D2E3FC;\n",
              "      --hover-bg-color: #434B5C;\n",
              "      --hover-fill-color: #FFFFFF;\n",
              "      --disabled-bg-color: #3B4455;\n",
              "      --disabled-fill-color: #666;\n",
              "  }\n",
              "\n",
              "  .colab-df-quickchart {\n",
              "    background-color: var(--bg-color);\n",
              "    border: none;\n",
              "    border-radius: 50%;\n",
              "    cursor: pointer;\n",
              "    display: none;\n",
              "    fill: var(--fill-color);\n",
              "    height: 32px;\n",
              "    padding: 0;\n",
              "    width: 32px;\n",
              "  }\n",
              "\n",
              "  .colab-df-quickchart:hover {\n",
              "    background-color: var(--hover-bg-color);\n",
              "    box-shadow: 0 1px 2px rgba(60, 64, 67, 0.3), 0 1px 3px 1px rgba(60, 64, 67, 0.15);\n",
              "    fill: var(--button-hover-fill-color);\n",
              "  }\n",
              "\n",
              "  .colab-df-quickchart-complete:disabled,\n",
              "  .colab-df-quickchart-complete:disabled:hover {\n",
              "    background-color: var(--disabled-bg-color);\n",
              "    fill: var(--disabled-fill-color);\n",
              "    box-shadow: none;\n",
              "  }\n",
              "\n",
              "  .colab-df-spinner {\n",
              "    border: 2px solid var(--fill-color);\n",
              "    border-color: transparent;\n",
              "    border-bottom-color: var(--fill-color);\n",
              "    animation:\n",
              "      spin 1s steps(1) infinite;\n",
              "  }\n",
              "\n",
              "  @keyframes spin {\n",
              "    0% {\n",
              "      border-color: transparent;\n",
              "      border-bottom-color: var(--fill-color);\n",
              "      border-left-color: var(--fill-color);\n",
              "    }\n",
              "    20% {\n",
              "      border-color: transparent;\n",
              "      border-left-color: var(--fill-color);\n",
              "      border-top-color: var(--fill-color);\n",
              "    }\n",
              "    30% {\n",
              "      border-color: transparent;\n",
              "      border-left-color: var(--fill-color);\n",
              "      border-top-color: var(--fill-color);\n",
              "      border-right-color: var(--fill-color);\n",
              "    }\n",
              "    40% {\n",
              "      border-color: transparent;\n",
              "      border-right-color: var(--fill-color);\n",
              "      border-top-color: var(--fill-color);\n",
              "    }\n",
              "    60% {\n",
              "      border-color: transparent;\n",
              "      border-right-color: var(--fill-color);\n",
              "    }\n",
              "    80% {\n",
              "      border-color: transparent;\n",
              "      border-right-color: var(--fill-color);\n",
              "      border-bottom-color: var(--fill-color);\n",
              "    }\n",
              "    90% {\n",
              "      border-color: transparent;\n",
              "      border-bottom-color: var(--fill-color);\n",
              "    }\n",
              "  }\n",
              "</style>\n",
              "\n",
              "  <script>\n",
              "    async function quickchart(key) {\n",
              "      const quickchartButtonEl =\n",
              "        document.querySelector('#' + key + ' button');\n",
              "      quickchartButtonEl.disabled = true;  // To prevent multiple clicks.\n",
              "      quickchartButtonEl.classList.add('colab-df-spinner');\n",
              "      try {\n",
              "        const charts = await google.colab.kernel.invokeFunction(\n",
              "            'suggestCharts', [key], {});\n",
              "      } catch (error) {\n",
              "        console.error('Error during call to suggestCharts:', error);\n",
              "      }\n",
              "      quickchartButtonEl.classList.remove('colab-df-spinner');\n",
              "      quickchartButtonEl.classList.add('colab-df-quickchart-complete');\n",
              "    }\n",
              "    (() => {\n",
              "      let quickchartButtonEl =\n",
              "        document.querySelector('#df-e042d052-6874-4c74-bfca-e9b32ae52f83 button');\n",
              "      quickchartButtonEl.style.display =\n",
              "        google.colab.kernel.accessAllowed ? 'block' : 'none';\n",
              "    })();\n",
              "  </script>\n",
              "</div>\n",
              "    </div>\n",
              "  </div>\n"
            ]
          },
          "metadata": {},
          "execution_count": 6
        }
      ]
    },
    {
      "cell_type": "code",
      "source": [
        "# number of rows & columns\n",
        "kivaloans.shape"
      ],
      "metadata": {
        "colab": {
          "base_uri": "https://localhost:8080/"
        },
        "id": "w7QzkGJzz8d-",
        "outputId": "76ad71b2-5417-444a-8607-d12c709b75d8"
      },
      "execution_count": null,
      "outputs": [
        {
          "output_type": "execute_result",
          "data": {
            "text/plain": [
              "(671205, 19)"
            ]
          },
          "metadata": {},
          "execution_count": 7
        }
      ]
    },
    {
      "cell_type": "code",
      "source": [
        "# all information about the data\n",
        "kivaloans.info()"
      ],
      "metadata": {
        "colab": {
          "base_uri": "https://localhost:8080/"
        },
        "id": "mvS9NHpX07Cj",
        "outputId": "0b9d6545-1f1f-4732-ba44-bea6cd4ba2c5"
      },
      "execution_count": null,
      "outputs": [
        {
          "output_type": "stream",
          "name": "stdout",
          "text": [
            "<class 'pandas.core.frame.DataFrame'>\n",
            "DatetimeIndex: 671205 entries, 2014-01-01 to 2017-07-26\n",
            "Data columns (total 19 columns):\n",
            " #   Column              Non-Null Count   Dtype  \n",
            "---  ------              --------------   -----  \n",
            " 0   id                  671205 non-null  int64  \n",
            " 1   funded_amount       671205 non-null  float64\n",
            " 2   loan_amount         671205 non-null  float64\n",
            " 3   activity            671205 non-null  object \n",
            " 4   sector              671205 non-null  object \n",
            " 5   use                 666973 non-null  object \n",
            " 6   country_code        671197 non-null  object \n",
            " 7   country             671205 non-null  object \n",
            " 8   region              614405 non-null  object \n",
            " 9   currency            671205 non-null  object \n",
            " 10  partner_id          657698 non-null  float64\n",
            " 11  posted_time         671205 non-null  object \n",
            " 12  disbursed_time      668809 non-null  object \n",
            " 13  funded_time         622874 non-null  object \n",
            " 14  term_in_months      671205 non-null  float64\n",
            " 15  lender_count        671205 non-null  int64  \n",
            " 16  tags                499789 non-null  object \n",
            " 17  borrower_genders    666984 non-null  object \n",
            " 18  repayment_interval  671205 non-null  object \n",
            "dtypes: float64(4), int64(2), object(13)\n",
            "memory usage: 102.4+ MB\n"
          ]
        }
      ]
    },
    {
      "cell_type": "markdown",
      "source": [
        "##Perform Feature Engineering"
      ],
      "metadata": {
        "id": "tjJnYIxJ0-F1"
      }
    },
    {
      "cell_type": "markdown",
      "source": [
        "### <span style=\"color:#288BA8; font-family:Arial;\">Missing Values</span>"
      ],
      "metadata": {
        "id": "avB_0BBg1Oi7"
      }
    },
    {
      "cell_type": "code",
      "source": [
        "# check for missing values\n",
        "kivaloans.isna().sum()"
      ],
      "metadata": {
        "colab": {
          "base_uri": "https://localhost:8080/"
        },
        "id": "MGnHKKC_08GQ",
        "outputId": "03eeea10-cd5a-44f2-997c-6f531dafedbe"
      },
      "execution_count": null,
      "outputs": [
        {
          "output_type": "execute_result",
          "data": {
            "text/plain": [
              "id                         0\n",
              "funded_amount              0\n",
              "loan_amount                0\n",
              "activity                   0\n",
              "sector                     0\n",
              "use                     4232\n",
              "country_code               8\n",
              "country                    0\n",
              "region                 56800\n",
              "currency                   0\n",
              "partner_id             13507\n",
              "posted_time                0\n",
              "disbursed_time          2396\n",
              "funded_time            48331\n",
              "term_in_months             0\n",
              "lender_count               0\n",
              "tags                  171416\n",
              "borrower_genders        4221\n",
              "repayment_interval         0\n",
              "dtype: int64"
            ]
          },
          "metadata": {},
          "execution_count": 9
        }
      ]
    },
    {
      "cell_type": "markdown",
      "source": [
        "#### <span style=\"color:#288BA8; font-family:Arial;\">Handling missing values:</span>\n",
        "   - To drop tags column not important and has alot of missing values\n",
        "   - To replace the region column missing values with the country column\n",
        "   - To fill the posted_time with posted_time values due to the funded_time values very close to posted_time\n",
        "   - To drop the missing values of use column\n",
        "   - To drop missing values for partener_id column as it cannot be filled\n",
        "   - To drop the missing values of disbursed_time column\n",
        "   - To drop the missing values of borrower_gender column"
      ],
      "metadata": {
        "id": "mUmKdmlK1h7h"
      }
    },
    {
      "cell_type": "code",
      "source": [
        "#Tags column:\n",
        "kivaloans = kivaloans.drop('tags', axis=1)\n",
        "\n",
        "#Region column:\n",
        "kivaloans['region'].fillna(kivaloans['country'], inplace=True)\n",
        "\n",
        "#Funded_time column:\n",
        "kivaloans['funded_time'].fillna(kivaloans['posted_time'], inplace=True)\n",
        "\n",
        "#Use column, disbursed_time, borrower_genders, partener_id:\n",
        "kivaloans.dropna(subset=['use', 'disbursed_time', 'borrower_genders', 'partner_id'], inplace=True)\n",
        "\n",
        "# confirm handling missing values\n",
        "kivaloans.isna().sum()"
      ],
      "metadata": {
        "colab": {
          "base_uri": "https://localhost:8080/"
        },
        "id": "BkYxS5821en4",
        "outputId": "8f1a8732-e21b-4abe-9c76-5618c13d5200"
      },
      "execution_count": null,
      "outputs": [
        {
          "output_type": "execute_result",
          "data": {
            "text/plain": [
              "id                    0\n",
              "funded_amount         0\n",
              "loan_amount           0\n",
              "activity              0\n",
              "sector                0\n",
              "use                   0\n",
              "country_code          8\n",
              "country               0\n",
              "region                0\n",
              "currency              0\n",
              "partner_id            0\n",
              "posted_time           0\n",
              "disbursed_time        0\n",
              "funded_time           0\n",
              "term_in_months        0\n",
              "lender_count          0\n",
              "borrower_genders      0\n",
              "repayment_interval    0\n",
              "dtype: int64"
            ]
          },
          "metadata": {},
          "execution_count": 10
        }
      ]
    },
    {
      "cell_type": "code",
      "source": [
        "kivaloans.shape"
      ],
      "metadata": {
        "colab": {
          "base_uri": "https://localhost:8080/"
        },
        "id": "EqG-ssHK3WTw",
        "outputId": "ba79aba7-724e-470e-af99-a62539f6b5bb"
      },
      "execution_count": null,
      "outputs": [
        {
          "output_type": "execute_result",
          "data": {
            "text/plain": [
              "(653890, 18)"
            ]
          },
          "metadata": {},
          "execution_count": 11
        }
      ]
    },
    {
      "cell_type": "markdown",
      "source": [
        "####After handling the missing values, the data lost 17315 rows"
      ],
      "metadata": {
        "id": "sVF7vFdM3_GK"
      }
    },
    {
      "cell_type": "code",
      "source": [
        "#Duplicate Values\n",
        "kivaloans.duplicated().all()"
      ],
      "metadata": {
        "colab": {
          "base_uri": "https://localhost:8080/"
        },
        "id": "Hqba8o5U37ip",
        "outputId": "f1742ed6-5924-4158-d517-821eff2a8813"
      },
      "execution_count": null,
      "outputs": [
        {
          "output_type": "execute_result",
          "data": {
            "text/plain": [
              "False"
            ]
          },
          "metadata": {},
          "execution_count": 12
        }
      ]
    },
    {
      "cell_type": "markdown",
      "source": [
        "####This shows that there is no duplicate values"
      ],
      "metadata": {
        "id": "JyQLAnF-4NHO"
      }
    },
    {
      "cell_type": "markdown",
      "source": [
        "###id:\n",
        "  -- This is unique ID for loan\n",
        "  - convert datatype to 'object' and discover the data"
      ],
      "metadata": {
        "id": "cgYGct-i4QyR"
      }
    },
    {
      "cell_type": "code",
      "source": [
        "# convert datatype to object\n",
        "kivaloans['id']= kivaloans['id'].astype(object)\n",
        "\n",
        "# confirm the datatype\n",
        "kivaloans['id'].dtype"
      ],
      "metadata": {
        "colab": {
          "base_uri": "https://localhost:8080/"
        },
        "id": "M0hcRYM-4AH8",
        "outputId": "a5715260-a6b7-4bf7-b17d-9b42d521e906"
      },
      "execution_count": null,
      "outputs": [
        {
          "output_type": "execute_result",
          "data": {
            "text/plain": [
              "dtype('O')"
            ]
          },
          "metadata": {},
          "execution_count": 13
        }
      ]
    },
    {
      "cell_type": "code",
      "source": [
        "# discover the id column\n",
        "kivaloans['id'].nunique()"
      ],
      "metadata": {
        "colab": {
          "base_uri": "https://localhost:8080/"
        },
        "id": "L8AAdr604cIX",
        "outputId": "9b27e5a7-c2ba-4234-921b-7e74b7084bd4"
      },
      "execution_count": null,
      "outputs": [
        {
          "output_type": "execute_result",
          "data": {
            "text/plain": [
              "653890"
            ]
          },
          "metadata": {},
          "execution_count": 14
        }
      ]
    },
    {
      "cell_type": "markdown",
      "source": [
        "### Loan_amount:\n",
        "   -- This is the amount disbursed by Kiva to the field agent(USD)\n",
        "   - To discover data as below"
      ],
      "metadata": {
        "id": "uCPjtcwS4f2G"
      }
    },
    {
      "cell_type": "code",
      "source": [
        "kivaloans['loan_amount'].sum()"
      ],
      "metadata": {
        "colab": {
          "base_uri": "https://localhost:8080/"
        },
        "id": "sdpwIUG74duM",
        "outputId": "d14662e6-0cc1-445e-9d28-ca7104b1c87b"
      },
      "execution_count": null,
      "outputs": [
        {
          "output_type": "execute_result",
          "data": {
            "text/plain": [
              "532306950.0"
            ]
          },
          "metadata": {},
          "execution_count": 15
        }
      ]
    },
    {
      "cell_type": "code",
      "source": [
        "kivaloans['loan_amount'].describe()"
      ],
      "metadata": {
        "colab": {
          "base_uri": "https://localhost:8080/"
        },
        "id": "pDtvPH9R4q1x",
        "outputId": "875db257-27b5-4ef1-8b17-968113216298"
      },
      "execution_count": null,
      "outputs": [
        {
          "output_type": "execute_result",
          "data": {
            "text/plain": [
              "count    653890.000000\n",
              "mean        814.061922\n",
              "std        1099.504640\n",
              "min          25.000000\n",
              "25%         275.000000\n",
              "50%         500.000000\n",
              "75%         975.000000\n",
              "max      100000.000000\n",
              "Name: loan_amount, dtype: float64"
            ]
          },
          "metadata": {},
          "execution_count": 16
        }
      ]
    },
    {
      "cell_type": "code",
      "source": [
        "#Visualize loan amount on histogram\n",
        "plt.figure(figsize = (10,5))\n",
        "plt.title('Loan Amount', fontsize = 15)\n",
        "plt.hist(kivaloans['loan_amount'], bins = 40)\n",
        "plt.xlabel('Loan Amount')\n",
        "plt.ylabel('Frequency')\n",
        "plt.show()"
      ],
      "metadata": {
        "colab": {
          "base_uri": "https://localhost:8080/",
          "height": 497
        },
        "id": "bKqMSBkb4rwH",
        "outputId": "2491f502-f0aa-416a-8fe3-7919a9938c0f"
      },
      "execution_count": null,
      "outputs": [
        {
          "output_type": "display_data",
          "data": {
            "text/plain": [
              "<Figure size 1000x500 with 1 Axes>"
            ],
            "image/png": "[encoded data removed]"
          },
          "metadata": {}
        }
      ]
    },
    {
      "cell_type": "markdown",
      "source": [
        "###Funded_amount:\n",
        "   -- This is the amount disbursed by the field agent to the borrower(USD)\n",
        "   - To discover data as below"
      ],
      "metadata": {
        "id": "iUDd_17j4vmM"
      }
    },
    {
      "cell_type": "code",
      "source": [
        " kivaloans['funded_amount'].sum()"
      ],
      "metadata": {
        "colab": {
          "base_uri": "https://localhost:8080/"
        },
        "id": "yAtAa80Q4tC4",
        "outputId": "35b3a0d2-96b1-4ca4-8e18-85e8b074c29e"
      },
      "execution_count": null,
      "outputs": [
        {
          "output_type": "execute_result",
          "data": {
            "text/plain": [
              "503188725.0"
            ]
          },
          "metadata": {},
          "execution_count": 18
        }
      ]
    },
    {
      "cell_type": "code",
      "source": [
        "kivaloans['funded_amount'].describe()"
      ],
      "metadata": {
        "colab": {
          "base_uri": "https://localhost:8080/"
        },
        "id": "4U9yS_AM45LZ",
        "outputId": "d203e0ce-ab2d-4767-a9e6-1b2f1970c883"
      },
      "execution_count": null,
      "outputs": [
        {
          "output_type": "execute_result",
          "data": {
            "text/plain": [
              "count    653890.000000\n",
              "mean        769.531152\n",
              "std        1063.388638\n",
              "min           0.000000\n",
              "25%         250.000000\n",
              "50%         450.000000\n",
              "75%         900.000000\n",
              "max      100000.000000\n",
              "Name: funded_amount, dtype: float64"
            ]
          },
          "metadata": {},
          "execution_count": 19
        }
      ]
    },
    {
      "cell_type": "code",
      "source": [
        "#Visualize funded amount on histogram\n",
        "plt.figure(figsize = (10,5))\n",
        "plt.title('Funded Amount', fontsize = 15)\n",
        "plt.hist(kivaloans['funded_amount'], bins = 40)\n",
        "plt.xlabel('Funded Amount')\n",
        "plt.ylabel('Frequency')\n",
        "plt.show()"
      ],
      "metadata": {
        "colab": {
          "base_uri": "https://localhost:8080/",
          "height": 497
        },
        "id": "lsukhYG846Rx",
        "outputId": "f3afbe1e-537e-4459-e8cc-8a6cde839576"
      },
      "execution_count": null,
      "outputs": [
        {
          "output_type": "display_data",
          "data": {
            "text/plain": [
              "<Figure size 1000x500 with 1 Axes>"
            ],
            "image/png": "[encoded data removed]"
          },
          "metadata": {}
        }
      ]
    },
    {
      "cell_type": "markdown",
      "source": [
        "### activity:\n",
        "   -- More granular category\n",
        "   - To discovery data as below"
      ],
      "metadata": {
        "id": "e8FQWqUW5FNp"
      }
    },
    {
      "cell_type": "code",
      "source": [
        "kivaloans['activity'].nunique()"
      ],
      "metadata": {
        "colab": {
          "base_uri": "https://localhost:8080/"
        },
        "id": "59Hwan3147iI",
        "outputId": "6270129d-eaa6-41c0-8da2-85f89f67988f"
      },
      "execution_count": null,
      "outputs": [
        {
          "output_type": "execute_result",
          "data": {
            "text/plain": [
              "163"
            ]
          },
          "metadata": {},
          "execution_count": 21
        }
      ]
    },
    {
      "cell_type": "code",
      "source": [
        "activity_counts= kivaloans['activity'].value_counts()\n",
        "activity_counts"
      ],
      "metadata": {
        "colab": {
          "base_uri": "https://localhost:8080/"
        },
        "id": "6OD1ke8U5HLf",
        "outputId": "55250012-5f1e-424a-a7fd-ad910e3732a8"
      },
      "execution_count": null,
      "outputs": [
        {
          "output_type": "execute_result",
          "data": {
            "text/plain": [
              "Farming                      72621\n",
              "General Store                63105\n",
              "Personal Housing Expenses    32295\n",
              "Food Production/Sales        27210\n",
              "Pigs                         26516\n",
              "                             ...  \n",
              "Technology                       6\n",
              "Celebrations                     5\n",
              "Event Planning                   5\n",
              "Energy                           3\n",
              "Adult Care                       2\n",
              "Name: activity, Length: 163, dtype: int64"
            ]
          },
          "metadata": {},
          "execution_count": 22
        }
      ]
    },
    {
      "cell_type": "markdown",
      "source": [
        "#### The Farming field is the most targeted field for the borrower category as data shows\n"
      ],
      "metadata": {
        "id": "eQJX65g65KMZ"
      }
    },
    {
      "cell_type": "code",
      "source": [
        "# Plot a bar chart for top ten activities\n",
        "plt.figure(figsize = (10,5))\n",
        "plt.bar(activity_counts.index[:10], activity_counts[:10])\n",
        "plt.xlabel('Activity')\n",
        "plt.ylabel('Count')\n",
        "plt.title('Top Ten Loan Activities')\n",
        "plt.xticks(rotation=45)  # Rotate x-axis labels for better readability if needed\n",
        "plt.show()"
      ],
      "metadata": {
        "colab": {
          "base_uri": "https://localhost:8080/",
          "height": 640
        },
        "id": "uVIA_Ewe5IEt",
        "outputId": "f2d40b28-907d-451e-fecc-7eac4a8eff8a"
      },
      "execution_count": null,
      "outputs": [
        {
          "output_type": "display_data",
          "data": {
            "text/plain": [
              "<Figure size 1000x500 with 1 Axes>"
            ],
            "image/png": "[encoded data removed]"
          },
          "metadata": {}
        }
      ]
    },
    {
      "cell_type": "markdown",
      "source": [
        "### sector:\n",
        "   -- High level category\n",
        "   - To discove data as below"
      ],
      "metadata": {
        "id": "itga526_5krV"
      }
    },
    {
      "cell_type": "code",
      "source": [
        "kivaloans['sector'].unique()"
      ],
      "metadata": {
        "colab": {
          "base_uri": "https://localhost:8080/"
        },
        "id": "MU6YUNoi5bMA",
        "outputId": "4f2cae77-ea04-490e-9629-2738b86b7385"
      },
      "execution_count": null,
      "outputs": [
        {
          "output_type": "execute_result",
          "data": {
            "text/plain": [
              "array(['Food', 'Transportation', 'Arts', 'Agriculture', 'Services',\n",
              "       'Manufacturing', 'Wholesale', 'Retail', 'Clothing', 'Construction',\n",
              "       'Health', 'Education', 'Personal Use', 'Housing', 'Entertainment'],\n",
              "      dtype=object)"
            ]
          },
          "metadata": {},
          "execution_count": 24
        }
      ]
    },
    {
      "cell_type": "code",
      "source": [
        "sector_counts= kivaloans['sector'].value_counts()\n",
        "sector_counts"
      ],
      "metadata": {
        "colab": {
          "base_uri": "https://localhost:8080/"
        },
        "id": "KmU9Gv6L5td9",
        "outputId": "22df658a-077e-4082-f6cc-1deddc8a32c0"
      },
      "execution_count": null,
      "outputs": [
        {
          "output_type": "execute_result",
          "data": {
            "text/plain": [
              "Agriculture       177166\n",
              "Food              133268\n",
              "Retail            121326\n",
              "Services           41563\n",
              "Personal Use       36246\n",
              "Housing            33539\n",
              "Clothing           30823\n",
              "Education          30681\n",
              "Transportation     15248\n",
              "Arts               11580\n",
              "Health              9009\n",
              "Manufacturing       6137\n",
              "Construction        6027\n",
              "Entertainment        656\n",
              "Wholesale            621\n",
              "Name: sector, dtype: int64"
            ]
          },
          "metadata": {},
          "execution_count": 25
        }
      ]
    },
    {
      "cell_type": "markdown",
      "source": [
        "####The data proves that the agriculture field is the most targeted field for the borrower category"
      ],
      "metadata": {
        "id": "q7JU1rSV5ytS"
      }
    },
    {
      "cell_type": "code",
      "source": [
        "# Plot a bar chart for loan sectors\n",
        "plt.figure(figsize = (10,5))\n",
        "plt.bar(sector_counts.index, sector_counts)\n",
        "plt.xlabel('Sectors')\n",
        "plt.ylabel('Count')\n",
        "plt.title('Loan Sectors')\n",
        "plt.xticks(rotation=45)  # Rotate x-axis labels for better readability if needed\n",
        "plt.show()"
      ],
      "metadata": {
        "colab": {
          "base_uri": "https://localhost:8080/",
          "height": 568
        },
        "id": "QDvsyNKr5uYK",
        "outputId": "9a1498a0-2bd6-45d3-f964-1e7e082c1220"
      },
      "execution_count": null,
      "outputs": [
        {
          "output_type": "display_data",
          "data": {
            "text/plain": [
              "<Figure size 1000x500 with 1 Axes>"
            ],
            "image/png": "[encoded data removed]"
          },
          "metadata": {}
        }
      ]
    },
    {
      "cell_type": "markdown",
      "source": [
        "### use:\n",
        "   -- This shows the exact usage of loan amount\n",
        "   - To discover data as below"
      ],
      "metadata": {
        "id": "HVLxKwG86I1a"
      }
    },
    {
      "cell_type": "code",
      "source": [
        "def handle_use(x):\n",
        "    list_x = x.split(' ')\n",
        "    if 'filter' in list_x or 'filters' in list_x:\n",
        "        return 'buy water filter'\n",
        "    elif 'toilet' in list_x or 'latrine' in list_x:\n",
        "        return 'build sanitary toilet'\n",
        "    elif 'fertilizers' in list_x or 'fertilizer' in list_x:\n",
        "        return 'buy fertilizers and other farm supplies'\n",
        "    elif 'pigs.' in list_x:\n",
        "        return 'buy feeds and other supplies to Pigs'\n",
        "    elif 'groceries' in list_x:\n",
        "        return 'buy groceries to sell'\n",
        "    elif 'solar' in list_x:\n",
        "        return 'buy solar'\n",
        "    elif 'ingredients' in list_x:\n",
        "        return 'buy ingredients forfood production business'\n",
        "    elif 'merchandise' in list_x:\n",
        "        return 'buy enough merchandise to sell at markets'\n",
        "    elif 'clothing' in list_x or 'clothing,' in list_x:\n",
        "        return 'clothing to sell'\n",
        "    elif 'clothing' in list_x:\n",
        "        return 'clothing to sell'\n",
        "    elif 'livestock' in list_x or 'livestock.' in list_x:\n",
        "        return 'buy feeds and other supplies to livestock'\n",
        "    elif 'construction ' in list_x:\n",
        "        return 'purchase building materials and construction labor'\n",
        "    elif 'farm' in list_x:\n",
        "        return 'buy farm inputs'\n",
        "    else:\n",
        "        return x"
      ],
      "metadata": {
        "id": "4ChZBdlb6HWf"
      },
      "execution_count": null,
      "outputs": []
    },
    {
      "cell_type": "code",
      "source": [
        "kivaloans['use']= kivaloans['use'].apply(handle_use)\n",
        "kivaloans['use'].value_counts().head(20)"
      ],
      "metadata": {
        "colab": {
          "base_uri": "https://localhost:8080/"
        },
        "id": "7z-fQNFr6R-_",
        "outputId": "ac407098-d368-431d-955e-086c6897cb10"
      },
      "execution_count": null,
      "outputs": [
        {
          "output_type": "execute_result",
          "data": {
            "text/plain": [
              "buy fertilizers and other farm supplies                          39852\n",
              "buy water filter                                                 17557\n",
              "clothing to sell                                                 14687\n",
              "buy groceries to sell                                            14152\n",
              "buy ingredients forfood production business                      14100\n",
              "buy farm inputs                                                  13759\n",
              "buy feeds and other supplies to livestock                         9228\n",
              "build sanitary toilet                                             8849\n",
              "buy feeds and other supplies to Pigs                              8189\n",
              "buy solar                                                         7021\n",
              "buy enough merchandise to sell at markets                         5242\n",
              "to buy feeds and other supplies to raise her pigs                 1027\n",
              "to buy fishing gear and other equipment.                           688\n",
              "to buy feed and vitamins for her pigs                              621\n",
              "to pay university fees.                                            604\n",
              "to purchase building materials and pay for construction labor      583\n",
              "to buy an eco-friendly stove.                                      547\n",
              "to buy cereals.                                                    501\n",
              "to buy a dairy cow.                                                467\n",
              "to buy more fish to sell.                                          456\n",
              "Name: use, dtype: int64"
            ]
          },
          "metadata": {},
          "execution_count": 28
        }
      ]
    },
    {
      "cell_type": "code",
      "source": [
        "use_counts= kivaloans['use'].value_counts().head(10)\n",
        "use_counts.columns=['use', 'count']\n",
        "use_counts"
      ],
      "metadata": {
        "colab": {
          "base_uri": "https://localhost:8080/"
        },
        "id": "uOsCXBSn6VHP",
        "outputId": "1d7425cc-0f99-4ee3-9646-6b7566e052e5"
      },
      "execution_count": null,
      "outputs": [
        {
          "output_type": "execute_result",
          "data": {
            "text/plain": [
              "buy fertilizers and other farm supplies        39852\n",
              "buy water filter                               17557\n",
              "clothing to sell                               14687\n",
              "buy groceries to sell                          14152\n",
              "buy ingredients forfood production business    14100\n",
              "buy farm inputs                                13759\n",
              "buy feeds and other supplies to livestock       9228\n",
              "build sanitary toilet                           8849\n",
              "buy feeds and other supplies to Pigs            8189\n",
              "buy solar                                       7021\n",
              "Name: use, dtype: int64"
            ]
          },
          "metadata": {},
          "execution_count": 29
        }
      ]
    },
    {
      "cell_type": "markdown",
      "source": [
        "####This shows the common reasons for borrow loan is to buy fertilizers and other farm supplies which proves that the agriculture field is the most targeted field for the borrower catogory"
      ],
      "metadata": {
        "id": "EM2JHR0f6a0t"
      }
    },
    {
      "cell_type": "code",
      "source": [
        "plt.figure(figsize = (10,5))\n",
        "use_counts.plot(kind='bar')\n",
        "plt.xlabel('Uses')\n",
        "plt.ylabel('Count')\n",
        "plt.title('Loan Uses')\n",
        "plt.xticks(rotation=75)  # Rotate x-axis labels for better readability if needed\n",
        "plt.show()"
      ],
      "metadata": {
        "colab": {
          "base_uri": "https://localhost:8080/",
          "height": 810
        },
        "id": "PGqZjvH-6Xz2",
        "outputId": "5e1b1dfb-7a3b-41cb-a6f3-feb58d7e88d5"
      },
      "execution_count": null,
      "outputs": [
        {
          "output_type": "display_data",
          "data": {
            "text/plain": [
              "<Figure size 1000x500 with 1 Axes>"
            ],
            "image/png": "[encoded data removed]"
          },
          "metadata": {}
        }
      ]
    },
    {
      "cell_type": "markdown",
      "source": [
        "###country_code:\n",
        "   -- ISO country code is refer to the refer the country in which loan was disbursed\n",
        "   - To discover data as below"
      ],
      "metadata": {
        "id": "0kxupu5z61N_"
      }
    },
    {
      "cell_type": "code",
      "source": [
        "kivaloans['country_code'].value_counts()"
      ],
      "metadata": {
        "colab": {
          "base_uri": "https://localhost:8080/"
        },
        "id": "h8Qlnra-6dcc",
        "outputId": "5dfde3d1-c192-4975-89ca-004c56b85395"
      },
      "execution_count": null,
      "outputs": [
        {
          "output_type": "execute_result",
          "data": {
            "text/plain": [
              "PH    160361\n",
              "KE     67106\n",
              "SV     39320\n",
              "KH     34809\n",
              "PK     26853\n",
              "       ...  \n",
              "VU         4\n",
              "AF         2\n",
              "MR         1\n",
              "CI         1\n",
              "BT         1\n",
              "Name: country_code, Length: 83, dtype: int64"
            ]
          },
          "metadata": {},
          "execution_count": 31
        }
      ]
    },
    {
      "cell_type": "markdown",
      "source": [
        "####The data shows that the Philippines is the most countries that takes loans, followed by Kenya and El Salvador"
      ],
      "metadata": {
        "id": "z5POHCL27LtU"
      }
    },
    {
      "cell_type": "markdown",
      "source": [
        "### country:\n",
        "   -- To discover the full country name of the country in which loan has disbursed\n",
        "  "
      ],
      "metadata": {
        "id": "CcKjiZ1Q7bwk"
      }
    },
    {
      "cell_type": "code",
      "source": [
        "kivaloans['country'].unique()"
      ],
      "metadata": {
        "colab": {
          "base_uri": "https://localhost:8080/"
        },
        "id": "ewn4HtB37GSx",
        "outputId": "2ddb49fd-da73-4a07-96d8-16dc27917e12"
      },
      "execution_count": null,
      "outputs": [
        {
          "output_type": "execute_result",
          "data": {
            "text/plain": [
              "array(['Pakistan', 'India', 'Kenya', 'Nicaragua', 'El Salvador',\n",
              "       'Tanzania', 'Philippines', 'Peru', 'Senegal', 'Cambodia',\n",
              "       'Liberia', 'Vietnam', 'Iraq', 'Honduras', 'Palestine', 'Mongolia',\n",
              "       'United States', 'Mali', 'Colombia', 'Tajikistan', 'Guatemala',\n",
              "       'Ecuador', 'Bolivia', 'Yemen', 'Ghana', 'Sierra Leone', 'Haiti',\n",
              "       'Chile', 'Jordan', 'Uganda', 'Burundi', 'Burkina Faso',\n",
              "       'Timor-Leste', 'Indonesia', 'Georgia', 'Ukraine', 'Kosovo',\n",
              "       'Albania', 'The Democratic Republic of the Congo', 'Costa Rica',\n",
              "       'Somalia', 'Zimbabwe', 'Cameroon', 'Turkey', 'Azerbaijan',\n",
              "       'Dominican Republic', 'Brazil', 'Mexico', 'Kyrgyzstan', 'Armenia',\n",
              "       'Paraguay', 'Lebanon', 'Samoa', 'Israel', 'Rwanda', 'Zambia',\n",
              "       'Nepal', 'Congo', 'Mozambique', 'South Africa', 'Togo', 'Benin',\n",
              "       'Belize', 'Suriname', 'Thailand', 'Nigeria', 'Mauritania',\n",
              "       'Vanuatu', 'Panama', 'Saint Vincent and the Grenadines',\n",
              "       \"Lao People's Democratic Republic\", 'Myanmar (Burma)', 'Malawi',\n",
              "       'Moldova', 'South Sudan', 'Solomon Islands', 'China', 'Egypt',\n",
              "       'Afghanistan', 'Madagascar', 'Namibia', 'Lesotho', \"Cote D'Ivoire\",\n",
              "       'Bhutan'], dtype=object)"
            ]
          },
          "metadata": {},
          "execution_count": 32
        }
      ]
    },
    {
      "cell_type": "code",
      "source": [
        "kivaloans['country'].nunique()"
      ],
      "metadata": {
        "colab": {
          "base_uri": "https://localhost:8080/"
        },
        "id": "eNcZtbH07ynX",
        "outputId": "4df30f79-17d0-4d07-c1ef-63cf35dfed7d"
      },
      "execution_count": null,
      "outputs": [
        {
          "output_type": "execute_result",
          "data": {
            "text/plain": [
              "84"
            ]
          },
          "metadata": {},
          "execution_count": 33
        }
      ]
    },
    {
      "cell_type": "code",
      "source": [
        "kivaloans['country'].value_counts()"
      ],
      "metadata": {
        "colab": {
          "base_uri": "https://localhost:8080/"
        },
        "id": "I1KU8CXB70BT",
        "outputId": "c9cfd835-ff4e-4b04-e43b-e9a086ddaeaa"
      },
      "execution_count": null,
      "outputs": [
        {
          "output_type": "execute_result",
          "data": {
            "text/plain": [
              "Philippines      160361\n",
              "Kenya             67106\n",
              "El Salvador       39320\n",
              "Cambodia          34809\n",
              "Pakistan          26853\n",
              "                  ...  \n",
              "Vanuatu               4\n",
              "Afghanistan           2\n",
              "Mauritania            1\n",
              "Cote D'Ivoire         1\n",
              "Bhutan                1\n",
              "Name: country, Length: 84, dtype: int64"
            ]
          },
          "metadata": {},
          "execution_count": 34
        }
      ]
    },
    {
      "cell_type": "code",
      "source": [
        "kivaloans = kivaloans.drop('country_code', axis=1)"
      ],
      "metadata": {
        "id": "O7hKyyF0709f"
      },
      "execution_count": null,
      "outputs": []
    },
    {
      "cell_type": "markdown",
      "source": [
        "####The data proves that the Philippines is one of the most countries that takes loans, followed by Kenya and El Salvador\n",
        "\n",
        "####The country_code column is the same as country column which dropped to minimaize the dataframe"
      ],
      "metadata": {
        "id": "IQu3L5Zl74WU"
      }
    },
    {
      "cell_type": "markdown",
      "source": [
        "###region:\n",
        "   -- It refers to full region name within the country"
      ],
      "metadata": {
        "id": "4bYXysve8R6O"
      }
    },
    {
      "cell_type": "code",
      "source": [
        "kivaloans['region'].value_counts()"
      ],
      "metadata": {
        "colab": {
          "base_uri": "https://localhost:8080/"
        },
        "id": "1A9oz9cQ8NbY",
        "outputId": "74f28bc6-e03c-4f10-f4ac-9f252ef90e2a"
      },
      "execution_count": null,
      "outputs": [
        {
          "output_type": "execute_result",
          "data": {
            "text/plain": [
              "El Salvador                         19697\n",
              "Kaduna                              10000\n",
              "Lahore                               7178\n",
              "Rwanda                               6123\n",
              "Rawalpindi                           4496\n",
              "                                    ...  \n",
              "Brgy. Nagacadan, Kiangan, Ifugao        1\n",
              "Jghali                                  1\n",
              "San Miguel, Iloilo                      1\n",
              "Candelaria, Candelaria, Campeche        1\n",
              "alejandria                              1\n",
              "Name: region, Length: 12732, dtype: int64"
            ]
          },
          "metadata": {},
          "execution_count": 36
        }
      ]
    },
    {
      "cell_type": "markdown",
      "source": [],
      "metadata": {
        "id": "_5P_JtbV8atL"
      }
    },
    {
      "cell_type": "markdown",
      "source": [
        "###curreny:\n",
        "   -- This refer to the currency in which the loan was disbursed"
      ],
      "metadata": {
        "id": "JN92RuH88axR"
      }
    },
    {
      "cell_type": "code",
      "source": [
        "kivaloans['currency'].unique()"
      ],
      "metadata": {
        "colab": {
          "base_uri": "https://localhost:8080/"
        },
        "id": "SkGJ9gB08ZLO",
        "outputId": "d1ad6bc9-d427-4f99-aaa1-6d65e185510d"
      },
      "execution_count": null,
      "outputs": [
        {
          "output_type": "execute_result",
          "data": {
            "text/plain": [
              "array(['PKR', 'INR', 'KES', 'NIO', 'USD', 'TZS', 'PHP', 'PEN', 'XOF',\n",
              "       'LRD', 'VND', 'HNL', 'MNT', 'COP', 'GTQ', 'TJS', 'BOB', 'YER',\n",
              "       'KHR', 'GHS', 'SLL', 'HTG', 'CLP', 'JOD', 'UGX', 'BIF', 'IDR',\n",
              "       'GEL', 'UAH', 'EUR', 'ALL', 'CRC', 'XAF', 'TRY', 'AZN', 'DOP',\n",
              "       'BRL', 'MXN', 'KGS', 'AMD', 'PYG', 'LBP', 'WST', 'ILS', 'RWF',\n",
              "       'ZMW', 'NPR', 'MZN', 'ZAR', 'BZD', 'SRD', 'NGN', 'VUV', 'XCD',\n",
              "       'LAK', 'MMK', 'MWK', 'ZWD', 'MDL', 'SSP', 'SBD', 'CNY', 'EGP',\n",
              "       'MGA', 'NAD', 'LSL', 'THB'], dtype=object)"
            ]
          },
          "metadata": {},
          "execution_count": 37
        }
      ]
    },
    {
      "cell_type": "code",
      "source": [
        "kivaloans['country'].nunique()"
      ],
      "metadata": {
        "colab": {
          "base_uri": "https://localhost:8080/"
        },
        "id": "v-PgZ2Fo8l-B",
        "outputId": "ea153eda-01dc-4938-ff93-d94a3663f386"
      },
      "execution_count": null,
      "outputs": [
        {
          "output_type": "execute_result",
          "data": {
            "text/plain": [
              "84"
            ]
          },
          "metadata": {},
          "execution_count": 38
        }
      ]
    },
    {
      "cell_type": "markdown",
      "source": [
        "#### The unique values number is same as country column which shows the each country currency, but the loans are still disbursed in dollars\n"
      ],
      "metadata": {
        "id": "ctLUu9oh8pSX"
      }
    },
    {
      "cell_type": "markdown",
      "source": [
        "### partner_id:\n",
        "   -- This is represent ID of partner organization\n",
        "   - Require to convert datatype to 'object'"
      ],
      "metadata": {
        "id": "MmRYCjXe9peK"
      }
    },
    {
      "cell_type": "code",
      "source": [
        "#convert datatype to 'object'\n",
        "kivaloans['partner_id']= kivaloans['partner_id'].astype(int)\n",
        "kivaloans['partner_id']= kivaloans['partner_id'].astype(object)"
      ],
      "metadata": {
        "id": "l3nm2vBc8mG8"
      },
      "execution_count": null,
      "outputs": []
    },
    {
      "cell_type": "code",
      "source": [
        "kivaloans['partner_id'].nunique()"
      ],
      "metadata": {
        "colab": {
          "base_uri": "https://localhost:8080/"
        },
        "id": "X1yAn5ut9ta0",
        "outputId": "4fb4bcd1-81c5-423a-fa7d-05680a671481"
      },
      "execution_count": null,
      "outputs": [
        {
          "output_type": "execute_result",
          "data": {
            "text/plain": [
              "364"
            ]
          },
          "metadata": {},
          "execution_count": 40
        }
      ]
    },
    {
      "cell_type": "code",
      "source": [
        "kivaloans['partner_id'].value_counts()"
      ],
      "metadata": {
        "colab": {
          "base_uri": "https://localhost:8080/"
        },
        "id": "TLT9XpZc9uu4",
        "outputId": "91df9130-47f6-49a6-894f-7a7dcb996dde"
      },
      "execution_count": null,
      "outputs": [
        {
          "output_type": "execute_result",
          "data": {
            "text/plain": [
              "145    107180\n",
              "199     19263\n",
              "311     15830\n",
              "177     15639\n",
              "156     15419\n",
              "        ...  \n",
              "506         1\n",
              "348         1\n",
              "508         1\n",
              "509         1\n",
              "536         1\n",
              "Name: partner_id, Length: 364, dtype: int64"
            ]
          },
          "metadata": {},
          "execution_count": 41
        }
      ]
    },
    {
      "cell_type": "code",
      "source": [
        "kivaloans['partner_id'].nunique()"
      ],
      "metadata": {
        "colab": {
          "base_uri": "https://localhost:8080/"
        },
        "id": "W_nKJuAM9vmP",
        "outputId": "307d3cbd-c822-47a4-d6fc-3465204d7c36"
      },
      "execution_count": null,
      "outputs": [
        {
          "output_type": "execute_result",
          "data": {
            "text/plain": [
              "364"
            ]
          },
          "metadata": {},
          "execution_count": 42
        }
      ]
    },
    {
      "cell_type": "markdown",
      "source": [
        "### posted_time:\n",
        "   -- This is represent the time of the loan is posted on Kiva by the field agent\n",
        "   - This require convert to Date/Time"
      ],
      "metadata": {
        "id": "op-J9mRz9zAl"
      }
    },
    {
      "cell_type": "code",
      "source": [
        "# convert to datetime type\n",
        "kivaloans['posted_time']= pd.to_datetime(kivaloans['posted_time'])"
      ],
      "metadata": {
        "id": "Ph5fJ0fE9w9b"
      },
      "execution_count": null,
      "outputs": []
    },
    {
      "cell_type": "code",
      "source": [
        "# start date\n",
        "kivaloans['posted_time'].dt.date.min()"
      ],
      "metadata": {
        "colab": {
          "base_uri": "https://localhost:8080/"
        },
        "id": "JREFhY_R-CLE",
        "outputId": "3881c8e8-a1f6-4797-c432-43048a2ef87a"
      },
      "execution_count": null,
      "outputs": [
        {
          "output_type": "execute_result",
          "data": {
            "text/plain": [
              "datetime.date(2014, 1, 1)"
            ]
          },
          "metadata": {},
          "execution_count": 44
        }
      ]
    },
    {
      "cell_type": "code",
      "source": [
        "# end date\n",
        "kivaloans['posted_time'].dt.date.max()"
      ],
      "metadata": {
        "colab": {
          "base_uri": "https://localhost:8080/"
        },
        "id": "U0jWVsTb-DLO",
        "outputId": "edb45c32-0a7b-4651-8351-20f52cf55448"
      },
      "execution_count": null,
      "outputs": [
        {
          "output_type": "execute_result",
          "data": {
            "text/plain": [
              "datetime.date(2017, 7, 26)"
            ]
          },
          "metadata": {},
          "execution_count": 45
        }
      ]
    },
    {
      "cell_type": "code",
      "source": [
        "# start time\n",
        "kivaloans['posted_time'].dt.time.min()"
      ],
      "metadata": {
        "colab": {
          "base_uri": "https://localhost:8080/"
        },
        "id": "ZRWUUPTO-D7E",
        "outputId": "80d4c7e0-2a2e-4060-d2e5-704540b06f8f"
      },
      "execution_count": null,
      "outputs": [
        {
          "output_type": "execute_result",
          "data": {
            "text/plain": [
              "datetime.time(0, 0)"
            ]
          },
          "metadata": {},
          "execution_count": 46
        }
      ]
    },
    {
      "cell_type": "code",
      "source": [
        "# end time\n",
        "kivaloans['posted_time'].dt.time.max()"
      ],
      "metadata": {
        "colab": {
          "base_uri": "https://localhost:8080/"
        },
        "id": "9_BdMh3y-E4F",
        "outputId": "37f2d323-f1f6-4b4a-830c-0c6a66a3f10b"
      },
      "execution_count": null,
      "outputs": [
        {
          "output_type": "execute_result",
          "data": {
            "text/plain": [
              "datetime.time(23, 59, 59)"
            ]
          },
          "metadata": {},
          "execution_count": 47
        }
      ]
    },
    {
      "cell_type": "markdown",
      "source": [
        "#### The data shows that the post loans starting date was 1/1/2014 and the end is 26/7/2017 and it was positng 24 hours in a day\n"
      ],
      "metadata": {
        "id": "jSdlE1h1-NLR"
      }
    },
    {
      "cell_type": "markdown",
      "source": [
        "### disbursed_time:\n",
        "   -- This represent the time of the loan is disbursed by the field agent to the borrower\n",
        "   - It is required convert to Date/Time"
      ],
      "metadata": {
        "id": "e3QQ2nPI-2jq"
      }
    },
    {
      "cell_type": "code",
      "source": [
        "# convert todatetime\n",
        "kivaloans['disbursed_time']= pd.to_datetime(kivaloans['disbursed_time'])"
      ],
      "metadata": {
        "id": "blkubSsE-InS"
      },
      "execution_count": null,
      "outputs": []
    },
    {
      "cell_type": "code",
      "source": [
        "# start date\n",
        "kivaloans['disbursed_time'].dt.date.min()"
      ],
      "metadata": {
        "colab": {
          "base_uri": "https://localhost:8080/"
        },
        "id": "pldSccMb-_9Z",
        "outputId": "cd919d3f-a5be-4640-b52c-deb84a33abf1"
      },
      "execution_count": null,
      "outputs": [
        {
          "output_type": "execute_result",
          "data": {
            "text/plain": [
              "datetime.date(2013, 12, 2)"
            ]
          },
          "metadata": {},
          "execution_count": 49
        }
      ]
    },
    {
      "cell_type": "code",
      "source": [
        "# end date\n",
        "kivaloans['disbursed_time'].dt.date.max()"
      ],
      "metadata": {
        "colab": {
          "base_uri": "https://localhost:8080/"
        },
        "id": "_J8XqVH1_A3z",
        "outputId": "6b07745d-8911-4a76-e75a-4ac6085dc101"
      },
      "execution_count": null,
      "outputs": [
        {
          "output_type": "execute_result",
          "data": {
            "text/plain": [
              "datetime.date(2017, 9, 30)"
            ]
          },
          "metadata": {},
          "execution_count": 50
        }
      ]
    },
    {
      "cell_type": "code",
      "source": [
        "# start time\n",
        "kivaloans['disbursed_time'].dt.time.min()"
      ],
      "metadata": {
        "colab": {
          "base_uri": "https://localhost:8080/"
        },
        "id": "3Jf3Rrjb_CND",
        "outputId": "fbb199ab-cb06-4998-89a5-9678bd25819c"
      },
      "execution_count": null,
      "outputs": [
        {
          "output_type": "execute_result",
          "data": {
            "text/plain": [
              "datetime.time(0, 0)"
            ]
          },
          "metadata": {},
          "execution_count": 51
        }
      ]
    },
    {
      "cell_type": "code",
      "source": [
        "# end time\n",
        "kivaloans['posted_time'].dt.time.max()"
      ],
      "metadata": {
        "colab": {
          "base_uri": "https://localhost:8080/"
        },
        "id": "N2_B5KRy_D8M",
        "outputId": "3e189c83-d204-4c83-ce2f-df236eed500e"
      },
      "execution_count": null,
      "outputs": [
        {
          "output_type": "execute_result",
          "data": {
            "text/plain": [
              "datetime.time(23, 59, 59)"
            ]
          },
          "metadata": {},
          "execution_count": 52
        }
      ]
    },
    {
      "cell_type": "markdown",
      "source": [
        "####This shows that the loan disbursing was staring on 2/12/2013 and the end is 30/9/2017 and disbursing was 24 hours in a day"
      ],
      "metadata": {
        "id": "Cw5xZg1f_GMj"
      }
    },
    {
      "cell_type": "code",
      "source": [
        "# This for dash board usage\n",
        "kivaloans['disbursed_date'] = kivaloans['disbursed_time'].dt.date"
      ],
      "metadata": {
        "id": "ni7_OyY-_FDP"
      },
      "execution_count": null,
      "outputs": []
    },
    {
      "cell_type": "markdown",
      "source": [
        "### funded_time:\n",
        "   -- This is represent the time of the loan posted to Kiva gets funded by lenders completely\n",
        "   - It require convert to Date/Time"
      ],
      "metadata": {
        "id": "WqAJ7xp6_arz"
      }
    },
    {
      "cell_type": "code",
      "source": [
        "# convert to datetime\n",
        "kivaloans['funded_time']= pd.to_datetime(kivaloans['funded_time'])\n",
        "\n",
        "# start date\n",
        "kivaloans['funded_time'].dt.date.min()"
      ],
      "metadata": {
        "colab": {
          "base_uri": "https://localhost:8080/"
        },
        "id": "26nhivIt_XrD",
        "outputId": "46f733e1-822b-4be4-b4a6-30906b9814b1"
      },
      "execution_count": null,
      "outputs": [
        {
          "output_type": "execute_result",
          "data": {
            "text/plain": [
              "datetime.date(2014, 1, 1)"
            ]
          },
          "metadata": {},
          "execution_count": 54
        }
      ]
    },
    {
      "cell_type": "code",
      "source": [
        "# end date\n",
        "kivaloans['funded_time'].dt.date.max()"
      ],
      "metadata": {
        "colab": {
          "base_uri": "https://localhost:8080/"
        },
        "id": "7ZVkUuQK_jF_",
        "outputId": "a8c0549e-17c3-4011-a895-671ba6654151"
      },
      "execution_count": null,
      "outputs": [
        {
          "output_type": "execute_result",
          "data": {
            "text/plain": [
              "datetime.date(2017, 7, 26)"
            ]
          },
          "metadata": {},
          "execution_count": 55
        }
      ]
    },
    {
      "cell_type": "code",
      "source": [
        "# start time\n",
        "kivaloans['funded_time'].dt.time.min()"
      ],
      "metadata": {
        "colab": {
          "base_uri": "https://localhost:8080/"
        },
        "id": "AMe_Umyv_pIC",
        "outputId": "50229282-6580-4ddf-c596-92fda8d79137"
      },
      "execution_count": null,
      "outputs": [
        {
          "output_type": "execute_result",
          "data": {
            "text/plain": [
              "datetime.time(0, 0)"
            ]
          },
          "metadata": {},
          "execution_count": 56
        }
      ]
    },
    {
      "cell_type": "code",
      "source": [
        "# end time\n",
        "kivaloans['funded_time'].dt.time.max()"
      ],
      "metadata": {
        "colab": {
          "base_uri": "https://localhost:8080/"
        },
        "id": "XOJwegpx_qLd",
        "outputId": "4802cb0b-35c3-4ad7-bb01-73199ace0ecf"
      },
      "execution_count": null,
      "outputs": [
        {
          "output_type": "execute_result",
          "data": {
            "text/plain": [
              "datetime.time(23, 59, 59)"
            ]
          },
          "metadata": {},
          "execution_count": 57
        }
      ]
    },
    {
      "cell_type": "markdown",
      "source": [
        "#### This is shows that the posted_time column was started in 1/1/2014 and ended in 26/7/2017 and was 24 hours in a day\n"
      ],
      "metadata": {
        "id": "8CXxLjY1_uml"
      }
    },
    {
      "cell_type": "markdown",
      "source": [
        "### term_in_months:\n",
        "   -- This is represent the duration of the loan was disbursed in months\n",
        "   - It has renamed to loan_months\n",
        "   - This require convert to 'int'"
      ],
      "metadata": {
        "id": "Ii4VWXN7_-LH"
      }
    },
    {
      "cell_type": "code",
      "source": [
        "# rename term_in_mouths column\n",
        "kivaloans.rename(columns={'term_in_months': 'loan_months'}, inplace=True)\n",
        "\n",
        "# convert datatype to 'int'\n",
        "kivaloans['loan_months']= kivaloans['loan_months'].astype(int)\n",
        "\n",
        "kivaloans['loan_months'].unique()"
      ],
      "metadata": {
        "colab": {
          "base_uri": "https://localhost:8080/"
        },
        "id": "97So_v_H_rWK",
        "outputId": "5f15e864-feff-45a3-872c-03beb6e10ad4"
      },
      "execution_count": null,
      "outputs": [
        {
          "output_type": "execute_result",
          "data": {
            "text/plain": [
              "array([ 12,  11,  43,  14,  13,  10,   8,   5,  20,   7,  17,  15,   9,\n",
              "        39,  23,  26,   6,  22,  25,  27,  16,  52,  18,  19,  28,  62,\n",
              "        32,  21,  50,  35,  38,  72, 137,  49,  33,  42,  29,  37,  36,\n",
              "        51,  24, 113,  30,   4,  79,  31,  44,  74,  34,  48, 114,  40,\n",
              "       124, 104,  63,  85,  78,  70,  86,  61,  60,  67,  55,  53,   3,\n",
              "        41,  68,   2, 143,  77, 130,  45, 134, 107, 142, 148, 111,  56,\n",
              "       122, 141, 110,  81, 106,  54, 147, 112,  59, 145, 121, 109,  80,\n",
              "        47,  97,  75, 101, 128,  98,  87,  66,  46, 125,  76,  73, 120,\n",
              "       144, 118, 131,  65, 108,  58, 123,  84,  99,  82,  92,  69,  91,\n",
              "        57,  90,  93, 129,  89,  88,  64, 126, 138, 158,  83, 100, 105,\n",
              "       132,  96,  71, 127, 135, 133,  95, 154, 156,  94, 115, 102, 116,\n",
              "       136, 103, 139, 146])"
            ]
          },
          "metadata": {},
          "execution_count": 58
        }
      ]
    },
    {
      "cell_type": "code",
      "source": [
        "kivaloans['loan_months'].value_counts()"
      ],
      "metadata": {
        "colab": {
          "base_uri": "https://localhost:8080/"
        },
        "id": "IFtgfpddALRY",
        "outputId": "9578d8fb-058d-4f68-9553-545ed89b5d26"
      },
      "execution_count": null,
      "outputs": [
        {
          "output_type": "execute_result",
          "data": {
            "text/plain": [
              "14     165844\n",
              "8      142519\n",
              "11      40609\n",
              "7       32418\n",
              "13      30318\n",
              "        ...  \n",
              "158         1\n",
              "111         1\n",
              "147         1\n",
              "128         1\n",
              "146         1\n",
              "Name: loan_months, Length: 147, dtype: int64"
            ]
          },
          "metadata": {},
          "execution_count": 59
        }
      ]
    },
    {
      "cell_type": "markdown",
      "source": [
        "####This shows that the loan disbursement is usually completed within a year"
      ],
      "metadata": {
        "id": "T-IaFKYLAScJ"
      }
    },
    {
      "cell_type": "markdown",
      "source": [
        "### lender_count:\n",
        "   -- This is represent the total number of lenders that contributed to this loan"
      ],
      "metadata": {
        "id": "NVUwKUBUAiIq"
      }
    },
    {
      "cell_type": "code",
      "source": [
        "# number of lender distribution\n",
        "kivaloans['lender_count'].value_counts()"
      ],
      "metadata": {
        "colab": {
          "base_uri": "https://localhost:8080/"
        },
        "id": "gwGqGduCAPcs",
        "outputId": "c73b2e14-8654-456c-ad46-9acde1c4d0a1"
      },
      "execution_count": null,
      "outputs": [
        {
          "output_type": "execute_result",
          "data": {
            "text/plain": [
              "8       33616\n",
              "7       31921\n",
              "9       31863\n",
              "1       31422\n",
              "5       29727\n",
              "        ...  \n",
              "1167        1\n",
              "1302        1\n",
              "397         1\n",
              "919         1\n",
              "969         1\n",
              "Name: lender_count, Length: 483, dtype: int64"
            ]
          },
          "metadata": {},
          "execution_count": 60
        }
      ]
    },
    {
      "cell_type": "code",
      "source": [
        "# total number of lenders\n",
        "kivaloans['lender_count'].sum()"
      ],
      "metadata": {
        "colab": {
          "base_uri": "https://localhost:8080/"
        },
        "id": "yHzD60RcAsW0",
        "outputId": "fd45c218-34e1-4304-daf8-921facdcbab8"
      },
      "execution_count": null,
      "outputs": [
        {
          "output_type": "execute_result",
          "data": {
            "text/plain": [
              "13268532"
            ]
          },
          "metadata": {},
          "execution_count": 61
        }
      ]
    },
    {
      "cell_type": "code",
      "source": [
        "# maximum number of lenders per loan\n",
        "kivaloans['lender_count'].max()"
      ],
      "metadata": {
        "colab": {
          "base_uri": "https://localhost:8080/"
        },
        "id": "jlXv3_umAto4",
        "outputId": "ee5f9d9b-aea0-4b74-b8f4-663edbde688a"
      },
      "execution_count": null,
      "outputs": [
        {
          "output_type": "execute_result",
          "data": {
            "text/plain": [
              "2986"
            ]
          },
          "metadata": {},
          "execution_count": 62
        }
      ]
    },
    {
      "cell_type": "code",
      "source": [
        "# minimum number of lenders per loan\n",
        "kivaloans['lender_count'].min()"
      ],
      "metadata": {
        "colab": {
          "base_uri": "https://localhost:8080/"
        },
        "id": "_ZELQ4FQAvjb",
        "outputId": "d433c475-e4d6-4ba0-ce54-1f53154e0e59"
      },
      "execution_count": null,
      "outputs": [
        {
          "output_type": "execute_result",
          "data": {
            "text/plain": [
              "0"
            ]
          },
          "metadata": {},
          "execution_count": 63
        }
      ]
    },
    {
      "cell_type": "markdown",
      "source": [
        "### repayment_interval:\n",
        "   -- This is represent the repaying the loan method\n",
        "   - It require convert datatype to 'object'"
      ],
      "metadata": {
        "id": "AOOo9mT7A0Eu"
      }
    },
    {
      "cell_type": "code",
      "source": [
        "kivaloans['repayment_interval']= kivaloans['repayment_interval'].astype(object)"
      ],
      "metadata": {
        "id": "DN6mmc1FAwz3"
      },
      "execution_count": null,
      "outputs": []
    },
    {
      "cell_type": "code",
      "source": [
        "kivaloans['repayment_interval'].unique()"
      ],
      "metadata": {
        "colab": {
          "base_uri": "https://localhost:8080/"
        },
        "id": "WoQFxoPaA8rG",
        "outputId": "6360ee06-e7aa-46de-b8d3-0897fbd0378c"
      },
      "execution_count": null,
      "outputs": [
        {
          "output_type": "execute_result",
          "data": {
            "text/plain": [
              "array(['irregular', 'bullet', 'monthly'], dtype=object)"
            ]
          },
          "metadata": {},
          "execution_count": 65
        }
      ]
    },
    {
      "cell_type": "code",
      "source": [
        "kivaloans['repayment_interval'].value_counts()"
      ],
      "metadata": {
        "colab": {
          "base_uri": "https://localhost:8080/"
        },
        "id": "9NoMvplzA9jh",
        "outputId": "36ab4b3e-2de9-4be1-c2be-839d936d8b1c"
      },
      "execution_count": null,
      "outputs": [
        {
          "output_type": "execute_result",
          "data": {
            "text/plain": [
              "monthly      334195\n",
              "irregular    252039\n",
              "bullet        67656\n",
              "Name: repayment_interval, dtype: int64"
            ]
          },
          "metadata": {},
          "execution_count": 66
        }
      ]
    },
    {
      "cell_type": "markdown",
      "source": [
        "####The data shows that monthly payment is prevailing"
      ],
      "metadata": {
        "id": "OFQIIDCcBCw2"
      }
    },
    {
      "cell_type": "markdown",
      "source": [
        "### borrower_genders:\n",
        "   -- Comma separated M,F letters, where each instance represents a single male/female in the group\n",
        "   - split it to female and male"
      ],
      "metadata": {
        "id": "9zviA0wABKy0"
      }
    },
    {
      "cell_type": "code",
      "source": [
        "# borrower_genders values distribution\n",
        "kivaloans['borrower_genders'].value_counts()"
      ],
      "metadata": {
        "colab": {
          "base_uri": "https://localhost:8080/"
        },
        "id": "YXHHT8Q8A-6r",
        "outputId": "19e10eea-b2d8-4c73-a706-e21304e53de7"
      },
      "execution_count": null,
      "outputs": [
        {
          "output_type": "execute_result",
          "data": {
            "text/plain": [
              "female                                                                                                                                                                                                                          415840\n",
              "male                                                                                                                                                                                                                            132281\n",
              "female, female                                                                                                                                                                                                                   12163\n",
              "female, female, female                                                                                                                                                                                                           11676\n",
              "female, female, female, female                                                                                                                                                                                                    9052\n",
              "                                                                                                                                                                                                                                 ...  \n",
              "female, male, male, male, female, female, male, male, female, female, female, female, female, female, male, male, male, male, male, male, male, female                                                                               1\n",
              "male, female, female, female, male, female, female, female, male, female, female, male, female, female, female, female, female                                                                                                       1\n",
              "female, female, male, female, male, female, female, male, female, female, female, female, female, female, female, female, female, female                                                                                             1\n",
              "male, female, female, male, female, female, female, male, female, male, female, female, female                                                                                                                                       1\n",
              "female, female, female, male, female, female, female, male, female, female, female, male, female, male, female, female, female, female, female, female, female, female, female, female, female, female, female, female, male         1\n",
              "Name: borrower_genders, Length: 11297, dtype: int64"
            ]
          },
          "metadata": {},
          "execution_count": 67
        }
      ]
    },
    {
      "cell_type": "code",
      "source": [
        "# number of unique values\n",
        "kivaloans['borrower_genders'].nunique()"
      ],
      "metadata": {
        "colab": {
          "base_uri": "https://localhost:8080/"
        },
        "id": "-QHuLH-8BRn4",
        "outputId": "93ac53a9-4021-4704-c3dc-c0b74181c3c9"
      },
      "execution_count": null,
      "outputs": [
        {
          "output_type": "execute_result",
          "data": {
            "text/plain": [
              "11297"
            ]
          },
          "metadata": {},
          "execution_count": 68
        }
      ]
    },
    {
      "cell_type": "markdown",
      "source": [
        "####The data shows with many values for males and females. To add a borrower_count column for the number"
      ],
      "metadata": {
        "id": "vmejHBtMBV1O"
      }
    },
    {
      "cell_type": "code",
      "source": [
        "# function to count the occurance of female and male\n",
        "def count_category(cell):\n",
        "    if cell=='female':\n",
        "        female_count=1\n",
        "        male_count=0\n",
        "    elif cell=='male':\n",
        "        female_count=0\n",
        "        male_count=1\n",
        "    else:\n",
        "        counts = cell.split(', ')\n",
        "        female_count = counts.count('female')\n",
        "        male_count = counts.count('male')\n",
        "    return female_count + male_count"
      ],
      "metadata": {
        "id": "5vfpLfkrBTQm"
      },
      "execution_count": null,
      "outputs": []
    },
    {
      "cell_type": "code",
      "source": [
        "#Now i will add gender_count column to kivloans dataframe\n",
        "kivaloans['borrower_count']= kivaloans['borrower_genders'].apply(count_category)"
      ],
      "metadata": {
        "id": "uZszmjOLB4st"
      },
      "execution_count": null,
      "outputs": []
    },
    {
      "cell_type": "code",
      "source": [
        "# confirm processing\n",
        "kivaloans['borrower_count'].nunique()"
      ],
      "metadata": {
        "colab": {
          "base_uri": "https://localhost:8080/"
        },
        "id": "lYiZ4ICJB5zG",
        "outputId": "3a96701b-7c24-4db3-e49c-a32f44845c12"
      },
      "execution_count": null,
      "outputs": [
        {
          "output_type": "execute_result",
          "data": {
            "text/plain": [
              "50"
            ]
          },
          "metadata": {},
          "execution_count": 71
        }
      ]
    },
    {
      "cell_type": "code",
      "source": [
        "kivaloans['borrower_genders'] = kivaloans['borrower_genders'].apply(lambda x: 'both' if x not in(['female', 'male']) else x)"
      ],
      "metadata": {
        "id": "HVWGwTq6B7Hp"
      },
      "execution_count": null,
      "outputs": []
    },
    {
      "cell_type": "code",
      "source": [
        "kivaloans['borrower_genders'].unique()"
      ],
      "metadata": {
        "colab": {
          "base_uri": "https://localhost:8080/"
        },
        "id": "UNR5JAbOB89A",
        "outputId": "2b221d31-741e-4033-ee50-4d42536c5972"
      },
      "execution_count": null,
      "outputs": [
        {
          "output_type": "execute_result",
          "data": {
            "text/plain": [
              "array(['female', 'both', 'male'], dtype=object)"
            ]
          },
          "metadata": {},
          "execution_count": 73
        }
      ]
    },
    {
      "cell_type": "markdown",
      "source": [
        "####The borrower_count column  has been added to the data and the borrower_gender column has been added"
      ],
      "metadata": {
        "id": "_fXRVqWbCBjg"
      }
    },
    {
      "cell_type": "code",
      "source": [
        "kivaloans.shape"
      ],
      "metadata": {
        "colab": {
          "base_uri": "https://localhost:8080/"
        },
        "id": "dfcEOkckB-Hf",
        "outputId": "dd513342-4fb0-4f71-ac35-20976a95937f"
      },
      "execution_count": null,
      "outputs": [
        {
          "output_type": "execute_result",
          "data": {
            "text/plain": [
              "(653890, 19)"
            ]
          },
          "metadata": {},
          "execution_count": 74
        }
      ]
    },
    {
      "cell_type": "code",
      "source": [
        "kivaloans.isna().sum()"
      ],
      "metadata": {
        "colab": {
          "base_uri": "https://localhost:8080/"
        },
        "id": "cyPEHx_1CS4T",
        "outputId": "3d099d52-8946-441b-956b-43e22ddd58db"
      },
      "execution_count": null,
      "outputs": [
        {
          "output_type": "execute_result",
          "data": {
            "text/plain": [
              "id                    0\n",
              "funded_amount         0\n",
              "loan_amount           0\n",
              "activity              0\n",
              "sector                0\n",
              "use                   0\n",
              "country               0\n",
              "region                0\n",
              "currency              0\n",
              "partner_id            0\n",
              "posted_time           0\n",
              "disbursed_time        0\n",
              "funded_time           0\n",
              "loan_months           0\n",
              "lender_count          0\n",
              "borrower_genders      0\n",
              "repayment_interval    0\n",
              "disbursed_date        0\n",
              "borrower_count        0\n",
              "dtype: int64"
            ]
          },
          "metadata": {},
          "execution_count": 75
        }
      ]
    },
    {
      "cell_type": "code",
      "source": [
        "kivaloans.duplicated().sum()"
      ],
      "metadata": {
        "colab": {
          "base_uri": "https://localhost:8080/"
        },
        "id": "zrD74Do9CTz0",
        "outputId": "cec9eaad-706b-40fa-a975-c9c9734b85a6"
      },
      "execution_count": null,
      "outputs": [
        {
          "output_type": "execute_result",
          "data": {
            "text/plain": [
              "0"
            ]
          },
          "metadata": {},
          "execution_count": 76
        }
      ]
    },
    {
      "cell_type": "code",
      "source": [
        "kivaloans.info()"
      ],
      "metadata": {
        "colab": {
          "base_uri": "https://localhost:8080/"
        },
        "id": "5oJsriGHCVYD",
        "outputId": "244ad715-5117-45c3-fd75-6c9f83631f9d"
      },
      "execution_count": null,
      "outputs": [
        {
          "output_type": "stream",
          "name": "stdout",
          "text": [
            "<class 'pandas.core.frame.DataFrame'>\n",
            "DatetimeIndex: 653890 entries, 2014-01-01 to 2017-07-26\n",
            "Data columns (total 19 columns):\n",
            " #   Column              Non-Null Count   Dtype              \n",
            "---  ------              --------------   -----              \n",
            " 0   id                  653890 non-null  object             \n",
            " 1   funded_amount       653890 non-null  float64            \n",
            " 2   loan_amount         653890 non-null  float64            \n",
            " 3   activity            653890 non-null  object             \n",
            " 4   sector              653890 non-null  object             \n",
            " 5   use                 653890 non-null  object             \n",
            " 6   country             653890 non-null  object             \n",
            " 7   region              653890 non-null  object             \n",
            " 8   currency            653890 non-null  object             \n",
            " 9   partner_id          653890 non-null  object             \n",
            " 10  posted_time         653890 non-null  datetime64[ns, UTC]\n",
            " 11  disbursed_time      653890 non-null  datetime64[ns, UTC]\n",
            " 12  funded_time         653890 non-null  datetime64[ns, UTC]\n",
            " 13  loan_months         653890 non-null  int64              \n",
            " 14  lender_count        653890 non-null  int64              \n",
            " 15  borrower_genders    653890 non-null  object             \n",
            " 16  repayment_interval  653890 non-null  object             \n",
            " 17  disbursed_date      653890 non-null  object             \n",
            " 18  borrower_count      653890 non-null  int64              \n",
            "dtypes: datetime64[ns, UTC](3), float64(2), int64(3), object(11)\n",
            "memory usage: 99.8+ MB\n"
          ]
        }
      ]
    },
    {
      "cell_type": "code",
      "source": [
        "kivaloans.head(5)"
      ],
      "metadata": {
        "colab": {
          "base_uri": "https://localhost:8080/",
          "height": 597
        },
        "id": "5394ItIOjhiB",
        "outputId": "58f8b03e-35fd-477f-8398-a32612c3ecf2"
      },
      "execution_count": null,
      "outputs": [
        {
          "output_type": "execute_result",
          "data": {
            "text/plain": [
              "                id  funded_amount  loan_amount             activity  \\\n",
              "date                                                                  \n",
              "2014-01-01  653051          300.0        300.0  Fruits & Vegetables   \n",
              "2014-01-01  653053          575.0        575.0             Rickshaw   \n",
              "2014-01-01  653068          150.0        150.0       Transportation   \n",
              "2014-01-01  653063          200.0        200.0           Embroidery   \n",
              "2014-01-01  653084          400.0        400.0           Milk Sales   \n",
              "\n",
              "                    sector                                                use  \\\n",
              "date                                                                            \n",
              "2014-01-01            Food            To buy seasonal, fresh fruits to sell.    \n",
              "2014-01-01  Transportation  to repair and maintain the auto rickshaw used ...   \n",
              "2014-01-01  Transportation  To repair their old cycle-van and buy another ...   \n",
              "2014-01-01            Arts  to purchase an embroidery machine and a variet...   \n",
              "2014-01-01            Food                           to purchase one buffalo.   \n",
              "\n",
              "             country        region currency partner_id  \\\n",
              "date                                                     \n",
              "2014-01-01  Pakistan        Lahore      PKR        247   \n",
              "2014-01-01  Pakistan        Lahore      PKR        247   \n",
              "2014-01-01     India     Maynaguri      INR        334   \n",
              "2014-01-01  Pakistan        Lahore      PKR        247   \n",
              "2014-01-01  Pakistan  Abdul Hakeem      PKR        245   \n",
              "\n",
              "                         posted_time            disbursed_time  \\\n",
              "date                                                             \n",
              "2014-01-01 2014-01-01 06:12:39+00:00 2013-12-17 08:00:00+00:00   \n",
              "2014-01-01 2014-01-01 06:51:08+00:00 2013-12-17 08:00:00+00:00   \n",
              "2014-01-01 2014-01-01 09:58:07+00:00 2013-12-17 08:00:00+00:00   \n",
              "2014-01-01 2014-01-01 08:03:11+00:00 2013-12-24 08:00:00+00:00   \n",
              "2014-01-01 2014-01-01 11:53:19+00:00 2013-12-17 08:00:00+00:00   \n",
              "\n",
              "                         funded_time  loan_months  lender_count  \\\n",
              "date                                                              \n",
              "2014-01-01 2014-01-02 10:06:32+00:00           12            12   \n",
              "2014-01-01 2014-01-02 09:17:23+00:00           11            14   \n",
              "2014-01-01 2014-01-01 16:01:36+00:00           43             6   \n",
              "2014-01-01 2014-01-01 13:00:00+00:00           11             8   \n",
              "2014-01-01 2014-01-01 19:18:51+00:00           14            16   \n",
              "\n",
              "           borrower_genders repayment_interval disbursed_date  borrower_count  \n",
              "date                                                                           \n",
              "2014-01-01           female          irregular     2013-12-17               1  \n",
              "2014-01-01             both          irregular     2013-12-17               2  \n",
              "2014-01-01           female             bullet     2013-12-17               1  \n",
              "2014-01-01           female          irregular     2013-12-24               1  \n",
              "2014-01-01           female            monthly     2013-12-17               1  "
            ],
            "text/html": [
              "\n",
              "  <div id=\"df-b82da950-f99f-4bb7-9575-50ef2a0b280b\" class=\"colab-df-container\">\n",
              "    <div>\n",
              "<style scoped>\n",
              "    .dataframe tbody tr th:only-of-type {\n",
              "        vertical-align: middle;\n",
              "    }\n",
              "\n",
              "    .dataframe tbody tr th {\n",
              "        vertical-align: top;\n",
              "    }\n",
              "\n",
              "    .dataframe thead th {\n",
              "        text-align: right;\n",
              "    }\n",
              "</style>\n",
              "<table border=\"1\" class=\"dataframe\">\n",
              "  <thead>\n",
              "    <tr style=\"text-align: right;\">\n",
              "      <th></th>\n",
              "      <th>id</th>\n",
              "      <th>funded_amount</th>\n",
              "      <th>loan_amount</th>\n",
              "      <th>activity</th>\n",
              "      <th>sector</th>\n",
              "      <th>use</th>\n",
              "      <th>country</th>\n",
              "      <th>region</th>\n",
              "      <th>currency</th>\n",
              "      <th>partner_id</th>\n",
              "      <th>posted_time</th>\n",
              "      <th>disbursed_time</th>\n",
              "      <th>funded_time</th>\n",
              "      <th>loan_months</th>\n",
              "      <th>lender_count</th>\n",
              "      <th>borrower_genders</th>\n",
              "      <th>repayment_interval</th>\n",
              "      <th>disbursed_date</th>\n",
              "      <th>borrower_count</th>\n",
              "    </tr>\n",
              "    <tr>\n",
              "      <th>date</th>\n",
              "      <th></th>\n",
              "      <th></th>\n",
              "      <th></th>\n",
              "      <th></th>\n",
              "      <th></th>\n",
              "      <th></th>\n",
              "      <th></th>\n",
              "      <th></th>\n",
              "      <th></th>\n",
              "      <th></th>\n",
              "      <th></th>\n",
              "      <th></th>\n",
              "      <th></th>\n",
              "      <th></th>\n",
              "      <th></th>\n",
              "      <th></th>\n",
              "      <th></th>\n",
              "      <th></th>\n",
              "      <th></th>\n",
              "    </tr>\n",
              "  </thead>\n",
              "  <tbody>\n",
              "    <tr>\n",
              "      <th>2014-01-01</th>\n",
              "      <td>653051</td>\n",
              "      <td>300.0</td>\n",
              "      <td>300.0</td>\n",
              "      <td>Fruits &amp; Vegetables</td>\n",
              "      <td>Food</td>\n",
              "      <td>To buy seasonal, fresh fruits to sell.</td>\n",
              "      <td>Pakistan</td>\n",
              "      <td>Lahore</td>\n",
              "      <td>PKR</td>\n",
              "      <td>247</td>\n",
              "      <td>2014-01-01 06:12:39+00:00</td>\n",
              "      <td>2013-12-17 08:00:00+00:00</td>\n",
              "      <td>2014-01-02 10:06:32+00:00</td>\n",
              "      <td>12</td>\n",
              "      <td>12</td>\n",
              "      <td>female</td>\n",
              "      <td>irregular</td>\n",
              "      <td>2013-12-17</td>\n",
              "      <td>1</td>\n",
              "    </tr>\n",
              "    <tr>\n",
              "      <th>2014-01-01</th>\n",
              "      <td>653053</td>\n",
              "      <td>575.0</td>\n",
              "      <td>575.0</td>\n",
              "      <td>Rickshaw</td>\n",
              "      <td>Transportation</td>\n",
              "      <td>to repair and maintain the auto rickshaw used ...</td>\n",
              "      <td>Pakistan</td>\n",
              "      <td>Lahore</td>\n",
              "      <td>PKR</td>\n",
              "      <td>247</td>\n",
              "      <td>2014-01-01 06:51:08+00:00</td>\n",
              "      <td>2013-12-17 08:00:00+00:00</td>\n",
              "      <td>2014-01-02 09:17:23+00:00</td>\n",
              "      <td>11</td>\n",
              "      <td>14</td>\n",
              "      <td>both</td>\n",
              "      <td>irregular</td>\n",
              "      <td>2013-12-17</td>\n",
              "      <td>2</td>\n",
              "    </tr>\n",
              "    <tr>\n",
              "      <th>2014-01-01</th>\n",
              "      <td>653068</td>\n",
              "      <td>150.0</td>\n",
              "      <td>150.0</td>\n",
              "      <td>Transportation</td>\n",
              "      <td>Transportation</td>\n",
              "      <td>To repair their old cycle-van and buy another ...</td>\n",
              "      <td>India</td>\n",
              "      <td>Maynaguri</td>\n",
              "      <td>INR</td>\n",
              "      <td>334</td>\n",
              "      <td>2014-01-01 09:58:07+00:00</td>\n",
              "      <td>2013-12-17 08:00:00+00:00</td>\n",
              "      <td>2014-01-01 16:01:36+00:00</td>\n",
              "      <td>43</td>\n",
              "      <td>6</td>\n",
              "      <td>female</td>\n",
              "      <td>bullet</td>\n",
              "      <td>2013-12-17</td>\n",
              "      <td>1</td>\n",
              "    </tr>\n",
              "    <tr>\n",
              "      <th>2014-01-01</th>\n",
              "      <td>653063</td>\n",
              "      <td>200.0</td>\n",
              "      <td>200.0</td>\n",
              "      <td>Embroidery</td>\n",
              "      <td>Arts</td>\n",
              "      <td>to purchase an embroidery machine and a variet...</td>\n",
              "      <td>Pakistan</td>\n",
              "      <td>Lahore</td>\n",
              "      <td>PKR</td>\n",
              "      <td>247</td>\n",
              "      <td>2014-01-01 08:03:11+00:00</td>\n",
              "      <td>2013-12-24 08:00:00+00:00</td>\n",
              "      <td>2014-01-01 13:00:00+00:00</td>\n",
              "      <td>11</td>\n",
              "      <td>8</td>\n",
              "      <td>female</td>\n",
              "      <td>irregular</td>\n",
              "      <td>2013-12-24</td>\n",
              "      <td>1</td>\n",
              "    </tr>\n",
              "    <tr>\n",
              "      <th>2014-01-01</th>\n",
              "      <td>653084</td>\n",
              "      <td>400.0</td>\n",
              "      <td>400.0</td>\n",
              "      <td>Milk Sales</td>\n",
              "      <td>Food</td>\n",
              "      <td>to purchase one buffalo.</td>\n",
              "      <td>Pakistan</td>\n",
              "      <td>Abdul Hakeem</td>\n",
              "      <td>PKR</td>\n",
              "      <td>245</td>\n",
              "      <td>2014-01-01 11:53:19+00:00</td>\n",
              "      <td>2013-12-17 08:00:00+00:00</td>\n",
              "      <td>2014-01-01 19:18:51+00:00</td>\n",
              "      <td>14</td>\n",
              "      <td>16</td>\n",
              "      <td>female</td>\n",
              "      <td>monthly</td>\n",
              "      <td>2013-12-17</td>\n",
              "      <td>1</td>\n",
              "    </tr>\n",
              "  </tbody>\n",
              "</table>\n",
              "</div>\n",
              "    <div class=\"colab-df-buttons\">\n",
              "\n",
              "  <div class=\"colab-df-container\">\n",
              "    <button class=\"colab-df-convert\" onclick=\"convertToInteractive('df-b82da950-f99f-4bb7-9575-50ef2a0b280b')\"\n",
              "            title=\"Convert this dataframe to an interactive table.\"\n",
              "            style=\"display:none;\">\n",
              "\n",
              "  <svg xmlns=\"http://www.w3.org/2000/svg\" height=\"24px\" viewBox=\"0 -960 960 960\">\n",
              "    <path d=\"M120-120v-720h720v720H120Zm60-500h600v-160H180v160Zm220 220h160v-160H400v160Zm0 220h160v-160H400v160ZM180-400h160v-160H180v160Zm440 0h160v-160H620v160ZM180-180h160v-160H180v160Zm440 0h160v-160H620v160Z\"/>\n",
              "  </svg>\n",
              "    </button>\n",
              "\n",
              "  <style>\n",
              "    .colab-df-container {\n",
              "      display:flex;\n",
              "      gap: 12px;\n",
              "    }\n",
              "\n",
              "    .colab-df-convert {\n",
              "      background-color: #E8F0FE;\n",
              "      border: none;\n",
              "      border-radius: 50%;\n",
              "      cursor: pointer;\n",
              "      display: none;\n",
              "      fill: #1967D2;\n",
              "      height: 32px;\n",
              "      padding: 0 0 0 0;\n",
              "      width: 32px;\n",
              "    }\n",
              "\n",
              "    .colab-df-convert:hover {\n",
              "      background-color: #E2EBFA;\n",
              "      box-shadow: 0px 1px 2px rgba(60, 64, 67, 0.3), 0px 1px 3px 1px rgba(60, 64, 67, 0.15);\n",
              "      fill: #174EA6;\n",
              "    }\n",
              "\n",
              "    .colab-df-buttons div {\n",
              "      margin-bottom: 4px;\n",
              "    }\n",
              "\n",
              "    [theme=dark] .colab-df-convert {\n",
              "      background-color: #3B4455;\n",
              "      fill: #D2E3FC;\n",
              "    }\n",
              "\n",
              "    [theme=dark] .colab-df-convert:hover {\n",
              "      background-color: #434B5C;\n",
              "      box-shadow: 0px 1px 3px 1px rgba(0, 0, 0, 0.15);\n",
              "      filter: drop-shadow(0px 1px 2px rgba(0, 0, 0, 0.3));\n",
              "      fill: #FFFFFF;\n",
              "    }\n",
              "  </style>\n",
              "\n",
              "    <script>\n",
              "      const buttonEl =\n",
              "        document.querySelector('#df-b82da950-f99f-4bb7-9575-50ef2a0b280b button.colab-df-convert');\n",
              "      buttonEl.style.display =\n",
              "        google.colab.kernel.accessAllowed ? 'block' : 'none';\n",
              "\n",
              "      async function convertToInteractive(key) {\n",
              "        const element = document.querySelector('#df-b82da950-f99f-4bb7-9575-50ef2a0b280b');\n",
              "        const dataTable =\n",
              "          await google.colab.kernel.invokeFunction('convertToInteractive',\n",
              "                                                    [key], {});\n",
              "        if (!dataTable) return;\n",
              "\n",
              "        const docLinkHtml = 'Like what you see? Visit the ' +\n",
              "          '<a target=\"_blank\" href=https://colab.research.google.com/notebooks/data_table.ipynb>data table notebook</a>'\n",
              "          + ' to learn more about interactive tables.';\n",
              "        element.innerHTML = '';\n",
              "        dataTable['output_type'] = 'display_data';\n",
              "        await google.colab.output.renderOutput(dataTable, element);\n",
              "        const docLink = document.createElement('div');\n",
              "        docLink.innerHTML = docLinkHtml;\n",
              "        element.appendChild(docLink);\n",
              "      }\n",
              "    </script>\n",
              "  </div>\n",
              "\n",
              "\n",
              "<div id=\"df-494d4902-9046-4813-99e4-9b2ae6a7fcda\">\n",
              "  <button class=\"colab-df-quickchart\" onclick=\"quickchart('df-494d4902-9046-4813-99e4-9b2ae6a7fcda')\"\n",
              "            title=\"Suggest charts\"\n",
              "            style=\"display:none;\">\n",
              "\n",
              "<svg xmlns=\"http://www.w3.org/2000/svg\" height=\"24px\"viewBox=\"0 0 24 24\"\n",
              "     width=\"24px\">\n",
              "    <g>\n",
              "        <path d=\"M19 3H5c-1.1 0-2 .9-2 2v14c0 1.1.9 2 2 2h14c1.1 0 2-.9 2-2V5c0-1.1-.9-2-2-2zM9 17H7v-7h2v7zm4 0h-2V7h2v10zm4 0h-2v-4h2v4z\"/>\n",
              "    </g>\n",
              "</svg>\n",
              "  </button>\n",
              "\n",
              "<style>\n",
              "  .colab-df-quickchart {\n",
              "      --bg-color: #E8F0FE;\n",
              "      --fill-color: #1967D2;\n",
              "      --hover-bg-color: #E2EBFA;\n",
              "      --hover-fill-color: #174EA6;\n",
              "      --disabled-fill-color: #AAA;\n",
              "      --disabled-bg-color: #DDD;\n",
              "  }\n",
              "\n",
              "  [theme=dark] .colab-df-quickchart {\n",
              "      --bg-color: #3B4455;\n",
              "      --fill-color: #D2E3FC;\n",
              "      --hover-bg-color: #434B5C;\n",
              "      --hover-fill-color: #FFFFFF;\n",
              "      --disabled-bg-color: #3B4455;\n",
              "      --disabled-fill-color: #666;\n",
              "  }\n",
              "\n",
              "  .colab-df-quickchart {\n",
              "    background-color: var(--bg-color);\n",
              "    border: none;\n",
              "    border-radius: 50%;\n",
              "    cursor: pointer;\n",
              "    display: none;\n",
              "    fill: var(--fill-color);\n",
              "    height: 32px;\n",
              "    padding: 0;\n",
              "    width: 32px;\n",
              "  }\n",
              "\n",
              "  .colab-df-quickchart:hover {\n",
              "    background-color: var(--hover-bg-color);\n",
              "    box-shadow: 0 1px 2px rgba(60, 64, 67, 0.3), 0 1px 3px 1px rgba(60, 64, 67, 0.15);\n",
              "    fill: var(--button-hover-fill-color);\n",
              "  }\n",
              "\n",
              "  .colab-df-quickchart-complete:disabled,\n",
              "  .colab-df-quickchart-complete:disabled:hover {\n",
              "    background-color: var(--disabled-bg-color);\n",
              "    fill: var(--disabled-fill-color);\n",
              "    box-shadow: none;\n",
              "  }\n",
              "\n",
              "  .colab-df-spinner {\n",
              "    border: 2px solid var(--fill-color);\n",
              "    border-color: transparent;\n",
              "    border-bottom-color: var(--fill-color);\n",
              "    animation:\n",
              "      spin 1s steps(1) infinite;\n",
              "  }\n",
              "\n",
              "  @keyframes spin {\n",
              "    0% {\n",
              "      border-color: transparent;\n",
              "      border-bottom-color: var(--fill-color);\n",
              "      border-left-color: var(--fill-color);\n",
              "    }\n",
              "    20% {\n",
              "      border-color: transparent;\n",
              "      border-left-color: var(--fill-color);\n",
              "      border-top-color: var(--fill-color);\n",
              "    }\n",
              "    30% {\n",
              "      border-color: transparent;\n",
              "      border-left-color: var(--fill-color);\n",
              "      border-top-color: var(--fill-color);\n",
              "      border-right-color: var(--fill-color);\n",
              "    }\n",
              "    40% {\n",
              "      border-color: transparent;\n",
              "      border-right-color: var(--fill-color);\n",
              "      border-top-color: var(--fill-color);\n",
              "    }\n",
              "    60% {\n",
              "      border-color: transparent;\n",
              "      border-right-color: var(--fill-color);\n",
              "    }\n",
              "    80% {\n",
              "      border-color: transparent;\n",
              "      border-right-color: var(--fill-color);\n",
              "      border-bottom-color: var(--fill-color);\n",
              "    }\n",
              "    90% {\n",
              "      border-color: transparent;\n",
              "      border-bottom-color: var(--fill-color);\n",
              "    }\n",
              "  }\n",
              "</style>\n",
              "\n",
              "  <script>\n",
              "    async function quickchart(key) {\n",
              "      const quickchartButtonEl =\n",
              "        document.querySelector('#' + key + ' button');\n",
              "      quickchartButtonEl.disabled = true;  // To prevent multiple clicks.\n",
              "      quickchartButtonEl.classList.add('colab-df-spinner');\n",
              "      try {\n",
              "        const charts = await google.colab.kernel.invokeFunction(\n",
              "            'suggestCharts', [key], {});\n",
              "      } catch (error) {\n",
              "        console.error('Error during call to suggestCharts:', error);\n",
              "      }\n",
              "      quickchartButtonEl.classList.remove('colab-df-spinner');\n",
              "      quickchartButtonEl.classList.add('colab-df-quickchart-complete');\n",
              "    }\n",
              "    (() => {\n",
              "      let quickchartButtonEl =\n",
              "        document.querySelector('#df-494d4902-9046-4813-99e4-9b2ae6a7fcda button');\n",
              "      quickchartButtonEl.style.display =\n",
              "        google.colab.kernel.accessAllowed ? 'block' : 'none';\n",
              "    })();\n",
              "  </script>\n",
              "</div>\n",
              "    </div>\n",
              "  </div>\n"
            ]
          },
          "metadata": {},
          "execution_count": 78
        }
      ]
    },
    {
      "cell_type": "markdown",
      "source": [
        "##EDA Questions:\n",
        "### Time:\n",
        "   - what is the total loans per year for funded and loan amounts?\n",
        "   - what is the total loans per month for funded and loan amounts for each year?\n",
        "   - what is the distribution of sectors per year?"
      ],
      "metadata": {
        "id": "ws84_gZyCbE-"
      }
    },
    {
      "cell_type": "markdown",
      "source": [
        "####what is the total loans per year for funded and loan amounts?"
      ],
      "metadata": {
        "id": "AVPMdrBJDIkE"
      }
    },
    {
      "cell_type": "code",
      "source": [
        "plt.figure(figsize = (10,5))\n",
        "# Plot line chart for 'funded_amount'\n",
        "sns.lineplot(data=kivaloans, x=kivaloans.index.year, y='funded_amount', estimator=sum, label='funded')\n",
        "\n",
        "# Plot line chart for 'loan_amount'\n",
        "sns.lineplot(data=kivaloans, x=kivaloans.index.year, y='loan_amount', estimator=sum, label='loan')\n",
        "\n",
        "# Set the labels and title\n",
        "plt.xlabel('Year')\n",
        "plt.ylabel('Loan Amount')\n",
        "plt.title('Funded Amount and Loan Amount Over Time')\n",
        "plt.legend()\n",
        "# Convert y-axis tick labels to millions\n",
        "plt.gca().yaxis.set_major_formatter(plt.FuncFormatter(lambda x, _: f'{x/1e6:.1f}M'))\n",
        "# Show the plot\n",
        "plt.show()"
      ],
      "metadata": {
        "colab": {
          "base_uri": "https://localhost:8080/",
          "height": 495
        },
        "id": "m40CLKeSFoU2",
        "outputId": "9dc5701d-40cf-4921-c931-3d2d18761347"
      },
      "execution_count": null,
      "outputs": [
        {
          "output_type": "display_data",
          "data": {
            "text/plain": [
              "<Figure size 1000x500 with 1 Axes>"
            ],
            "image/png": "[encoded data removed]"
          },
          "metadata": {}
        }
      ]
    },
    {
      "cell_type": "markdown",
      "source": [
        "####what is the total loans per month for funded and loan amounts for each year?"
      ],
      "metadata": {
        "id": "7WBS1XV-Gk8l"
      }
    },
    {
      "cell_type": "code",
      "source": [
        "plt.figure(figsize = [15,5])\n",
        "plt.subplot(1,2,1)\n",
        "sns.lineplot(data = kivaloans, x = kivaloans.index.month, y = 'funded_amount', estimator=sum, hue=kivaloans.index.year)\n",
        "plt.title('Funded Amount Per Month')\n",
        "plt.xlabel('Month')\n",
        "plt.ylabel('Funded Amount')\n",
        "plt.xticks(rotation = 75)\n",
        "# Convert y-axis tick labels to millions\n",
        "plt.gca().yaxis.set_major_formatter(plt.FuncFormatter(lambda x, _: f'{x/1e6:.1f}M'))\n",
        "\n",
        "plt.subplot(1,2,2)\n",
        "sns.lineplot(data = kivaloans, x = kivaloans.index.month, y = 'loan_amount', estimator=sum, hue=kivaloans.index.year)\n",
        "plt.title(\"Loan Amount Per Month\")\n",
        "plt.xlabel('Month')\n",
        "plt.ylabel('Loan Amount')\n",
        "plt.xticks(rotation = 75)\n",
        "# Convert y-axis tick labels to millions\n",
        "plt.gca().yaxis.set_major_formatter(plt.FuncFormatter(lambda x, _: f'{x/1e6:.1f}M'))\n",
        "\n",
        "\n",
        "plt.show()"
      ],
      "metadata": {
        "id": "cvvfkdQJGncs"
      },
      "execution_count": null,
      "outputs": []
    },
    {
      "cell_type": "markdown",
      "source": [
        "####what is the total loan_amount of each sector per year?"
      ],
      "metadata": {
        "id": "br7qezsMHfAY"
      }
    },
    {
      "cell_type": "code",
      "source": [
        "plt.figure(figsize = (10,5))\n",
        "# Plot bar chart for sectors loan amount per year\n",
        "sns.barplot(data=kivaloans, x=kivaloans.index.year, y='loan_amount', estimator=sum, hue='sector')\n",
        "\n",
        "# Set the labels and title\n",
        "plt.xlabel('Sector')\n",
        "plt.ylabel('Loan Amount')\n",
        "plt.title('Sectors Loan Amount')\n",
        "# Move the legend outside the plot\n",
        "plt.legend(bbox_to_anchor=(1.05, 1), loc='upper left')\n",
        "# Convert y-axis tick labels to millions\n",
        "plt.gca().yaxis.set_major_formatter(plt.FuncFormatter(lambda x, _: f'{x/1e6:.1f}M'))\n",
        "\n",
        "# Show the plot\n",
        "plt.show()"
      ],
      "metadata": {
        "id": "He5FZIM5Hhw_"
      },
      "execution_count": null,
      "outputs": []
    },
    {
      "cell_type": "markdown",
      "source": [
        "### Country:\n",
        "   - What country got the most loans?\n",
        "   - For each country, Which region had the highest loan amounts?\n",
        "   - For each country, which common repayment interval?\n",
        "   - For each country, What is the distribution of borrower_gender?\n",
        "   - For each country, what is the most common sectors?\n"
      ],
      "metadata": {
        "id": "5GaMqatlCwCH"
      }
    },
    {
      "cell_type": "markdown",
      "source": [
        "####What country got the most loans?"
      ],
      "metadata": {
        "id": "qLRAVJGTIGRi"
      }
    },
    {
      "cell_type": "code",
      "source": [
        "country_loan_amount = kivaloans.groupby('country')['loan_amount'].sum()\\\n",
        "        .sort_values(ascending = False).head(10).reset_index()\n",
        "country_loan_amount"
      ],
      "metadata": {
        "id": "RREauMWMIBOD"
      },
      "execution_count": null,
      "outputs": []
    },
    {
      "cell_type": "code",
      "source": [
        "plt.figure(figsize = (10,5))\n",
        "# Plot bar chart for hieghst countries loan amount\n",
        "sns.barplot(data=country_loan_amount, x='country', y='loan_amount')\n",
        "\n",
        "# Set the labels and title\n",
        "plt.xlabel('Country')\n",
        "plt.ylabel('Total Loan Amount')\n",
        "plt.title('Loan Amount Per Country')\n",
        "# Convert y-axis tick labels to millions\n",
        "plt.gca().yaxis.set_major_formatter(plt.FuncFormatter(lambda x, _: f'{x/1e6:.1f}M'))\n",
        "# Show the plot\n",
        "plt.show()"
      ],
      "metadata": {
        "id": "qG7JCi7xIBS6"
      },
      "execution_count": null,
      "outputs": []
    },
    {
      "cell_type": "markdown",
      "source": [
        "####For each country, Which region had the highest loan amounts?"
      ],
      "metadata": {
        "id": "TzcoRPsqJ1q9"
      }
    },
    {
      "cell_type": "code",
      "source": [
        "# Group the data by country and region, and calculate the sum of loan amounts\n",
        "grouped_data = kivaloans.groupby(['country','region'])['loan_amount'].sum().sort_values(ascending=False).reset_index()\n",
        "\n",
        "# Find the region with the highest loan amount for each country\n",
        "max_loan_regions = grouped_data.loc[grouped_data.groupby('country')['loan_amount'].idxmax()]\\\n",
        "     .sort_values(by='loan_amount', ascending=False).head(10).reset_index(drop=True)\n",
        "\n",
        "# Display the result\n",
        "max_loan_regions"
      ],
      "metadata": {
        "id": "GnpA8fF_IBWE"
      },
      "execution_count": null,
      "outputs": []
    },
    {
      "cell_type": "code",
      "source": [
        "plt.figure(figsize = (10,5))\n",
        "# Plot bar chart for hieghst countries loan amount\n",
        "sns.barplot(data=max_loan_regions, x='region', y='loan_amount')\n",
        "\n",
        "# Set the labels and title\n",
        "plt.xlabel('Region')\n",
        "plt.ylabel('Total Loan Amount')\n",
        "plt.title('Total Loan Amount Per Region')\n",
        "# Convert y-axis tick labels to millions\n",
        "plt.gca().yaxis.set_major_formatter(plt.FuncFormatter(lambda x, _: f'{x/1e6:.1f}M'))\n",
        "plt.xticks(rotation = 75)\n",
        "\n",
        "# Show the plot\n",
        "plt.show()"
      ],
      "metadata": {
        "id": "F3fDsMgyIPYI"
      },
      "execution_count": null,
      "outputs": []
    },
    {
      "cell_type": "markdown",
      "source": [
        "####For each country, which common repayment interval?"
      ],
      "metadata": {
        "id": "XgRiT95qIUdr"
      }
    },
    {
      "cell_type": "code",
      "source": [
        "common_repayment = kivaloans.groupby(['country','repayment_interval']).size().sort_values(ascending=False).reset_index(name='count').head(20)\n",
        "common_repayment"
      ],
      "metadata": {
        "id": "BE2RmfD-IV4_"
      },
      "execution_count": null,
      "outputs": []
    },
    {
      "cell_type": "code",
      "source": [
        "plt.figure(figsize = (10,5))\n",
        "# Plot bar chart for hieghst countries loan amount\n",
        "sns.barplot(data=common_repayment, x='country', y='count', hue='repayment_interval')\n",
        "\n",
        "# Set the labels and title\n",
        "plt.xlabel('Country')\n",
        "plt.ylabel('Count')\n",
        "plt.title('Repayment way Per Country')\n",
        "# Move the legend outside the plot\n",
        "plt.legend(bbox_to_anchor=(1.05, 1), loc='upper left')\n",
        "plt.xticks(rotation = 75)\n",
        "\n",
        "# Show the plot\n",
        "plt.show()"
      ],
      "metadata": {
        "id": "iNUcsS0GIYsj"
      },
      "execution_count": null,
      "outputs": []
    },
    {
      "cell_type": "markdown",
      "source": [
        "####For each country, What is the distribution of borrower_gender?"
      ],
      "metadata": {
        "id": "WJK7WySnIavp"
      }
    },
    {
      "cell_type": "code",
      "source": [
        "country_gender = kivaloans.groupby(['country','borrower_genders']).size().sort_values(ascending=False).reset_index(name='count').head(20)\n",
        "country_gender"
      ],
      "metadata": {
        "id": "u7n_JgIoId18"
      },
      "execution_count": null,
      "outputs": []
    },
    {
      "cell_type": "code",
      "source": [
        "plt.figure(figsize = (10,5))\n",
        "# Plot bar chart for borrower genders per countries\n",
        "sns.barplot(data=country_gender, x='country', y='count', hue='borrower_genders')\n",
        "\n",
        "# Set the labels and title\n",
        "plt.xlabel('Country')\n",
        "plt.ylabel('Count')\n",
        "plt.title('Borrower Genders Per Country')\n",
        "# Move the legend outside the plot\n",
        "plt.legend(bbox_to_anchor=(1.05, 1), loc='upper left')\n",
        "plt.xticks(rotation = 75)\n",
        "\n",
        "# Show the plot\n",
        "plt.show()"
      ],
      "metadata": {
        "id": "QglVCVCPIgpM"
      },
      "execution_count": null,
      "outputs": []
    },
    {
      "cell_type": "markdown",
      "source": [
        "#### For each country, what is the most common sectors?"
      ],
      "metadata": {
        "id": "A3WDMKZVImKM"
      }
    },
    {
      "cell_type": "code",
      "source": [
        "common_sectors = kivaloans.groupby(['country','sector']).size().sort_values(ascending=False).reset_index(name='count').head(20)\n",
        "common_sectors"
      ],
      "metadata": {
        "id": "qQ5kHIQbIsLD"
      },
      "execution_count": null,
      "outputs": []
    },
    {
      "cell_type": "code",
      "source": [
        "plt.figure(figsize = (10,5))\n",
        "# Plot bar chart for hieghst sectors per countries\n",
        "sns.barplot(data=common_sectors, x='country', y='count', hue='sector')\n",
        "\n",
        "# Set the labels and title\n",
        "plt.xlabel('Country')\n",
        "plt.ylabel('Count')\n",
        "plt.title('Sectors Per Country')\n",
        "# Move the legend outside the plot\n",
        "plt.legend(bbox_to_anchor=(1.05, 1), loc='upper left')\n",
        "plt.xticks(rotation = 75)\n",
        "\n",
        "# Show the plot\n",
        "plt.show()"
      ],
      "metadata": {
        "id": "Hmy2fnuIIuMb"
      },
      "execution_count": null,
      "outputs": []
    },
    {
      "cell_type": "markdown",
      "source": [
        "### Sectors:\n",
        "   - According to activities, What is the Total loan amount for gender?\n",
        "   - What sector got the most loans?\n",
        "   - For each sector, What is the distribution of borrower_gender?\n",
        "   - For the top sector, what activity had the highest amount of loans?\n"
      ],
      "metadata": {
        "id": "gBhaXTfwCoJo"
      }
    },
    {
      "cell_type": "markdown",
      "source": [
        "####According to activities, What is the Total loan amount for gender?"
      ],
      "metadata": {
        "id": "OGIgrOczJerT"
      }
    },
    {
      "cell_type": "code",
      "source": [
        "#for data with one borrower\n",
        "gender_activities = kivaloans.groupby(['activity', 'borrower_genders'])['loan_amount'].sum()\\\n",
        "        .sort_values(ascending = False).head(10).reset_index()\n",
        "gender_activities"
      ],
      "metadata": {
        "id": "aaEp-30VJgKj"
      },
      "execution_count": null,
      "outputs": []
    },
    {
      "cell_type": "code",
      "source": [
        "plt.figure(figsize = (10,5))\n",
        "# Plot bar chart for hieghst countries loan amount\n",
        "sns.barplot(data=gender_activities, x='activity', y='loan_amount', hue='borrower_genders')\n",
        "\n",
        "# Set the labels and title\n",
        "plt.xlabel('activity')\n",
        "plt.ylabel('Total Loan Amount')\n",
        "plt.title('Loan Amount Per activity For Genders')\n",
        "plt.xticks(rotation = 75)\n",
        "# Move the legend outside the plot\n",
        "plt.legend(bbox_to_anchor=(1.05, 1), loc='upper left')\n",
        "# Convert y-axis tick labels to millions\n",
        "plt.gca().yaxis.set_major_formatter(plt.FuncFormatter(lambda x, _: f'{x/1e6:.1f}M'))\n",
        "# Show the plot\n",
        "plt.show()"
      ],
      "metadata": {
        "id": "2v0UyBWmJiaq"
      },
      "execution_count": null,
      "outputs": []
    },
    {
      "cell_type": "markdown",
      "source": [
        "####What sector got the most loans?"
      ],
      "metadata": {
        "id": "QCJRAVY1KF2R"
      }
    },
    {
      "cell_type": "code",
      "source": [
        "sector_loan_amount = kivaloans.groupby('sector')['loan_amount'].sum()\\\n",
        "        .sort_values(ascending = False).head(10).reset_index()\n",
        "sector_loan_amount"
      ],
      "metadata": {
        "id": "Tcu00oM5KHHd"
      },
      "execution_count": null,
      "outputs": []
    },
    {
      "cell_type": "code",
      "source": [
        "plt.figure(figsize = (10,5))\n",
        "# Plot bar chart for hieghst countries loan amount\n",
        "sns.barplot(data=sector_loan_amount, x='sector', y='loan_amount')\n",
        "\n",
        "# Set the labels and title\n",
        "plt.xlabel('Sector')\n",
        "plt.ylabel('Total Loan Amount')\n",
        "plt.title('Loan Amount Per Sector')\n",
        "# Convert y-axis tick labels to millions\n",
        "plt.gca().yaxis.set_major_formatter(plt.FuncFormatter(lambda x, _: f'{x/1e6:.1f}M'))\n",
        "# Show the plot\n",
        "plt.show()"
      ],
      "metadata": {
        "id": "AvUlQzvuKM8U"
      },
      "execution_count": null,
      "outputs": []
    },
    {
      "cell_type": "markdown",
      "source": [
        "####For each sector, What is the distribution of borrower_gender?"
      ],
      "metadata": {
        "id": "BRQjAMAGKdaR"
      }
    },
    {
      "cell_type": "code",
      "source": [
        "sector_gender = kivaloans.groupby(['sector','borrower_genders']).size().sort_values(ascending=False).reset_index(name='count').head(20)\n",
        "sector_gender"
      ],
      "metadata": {
        "id": "YQAU1KPUKezA"
      },
      "execution_count": null,
      "outputs": []
    },
    {
      "cell_type": "code",
      "source": [
        "plt.figure(figsize = (10,5))\n",
        "# Plot bar chart for borrower genders per sectors\n",
        "sns.barplot(data=sector_gender, x='sector', y='count', hue='borrower_genders')\n",
        "\n",
        "# Set the labels and title\n",
        "plt.xlabel('Sector')\n",
        "plt.ylabel('Count')\n",
        "plt.title('Borrower Genders Per Sector')\n",
        "# Move the legend outside the plot\n",
        "plt.legend(bbox_to_anchor=(1.05, 1), loc='upper left')\n",
        "plt.xticks(rotation = 75)\n",
        "\n",
        "# Show the plot\n",
        "plt.show()"
      ],
      "metadata": {
        "id": "T6UcbKxhKljP"
      },
      "execution_count": null,
      "outputs": []
    },
    {
      "cell_type": "markdown",
      "source": [
        "####For the top sector, what activity had the highest amount of loans?"
      ],
      "metadata": {
        "id": "211fRgZGKn57"
      }
    },
    {
      "cell_type": "code",
      "source": [
        "# Agriculture sector data\n",
        "top_sector= kivaloans[kivaloans['sector']=='Agriculture']"
      ],
      "metadata": {
        "id": "kxzIhfzdKrYC"
      },
      "execution_count": null,
      "outputs": []
    },
    {
      "cell_type": "code",
      "source": [
        "# Agriculture sector activities grouping data\n",
        "sector_loan_activity = top_sector.groupby('activity')[['loan_amount']].sum().sort_values(by='loan_amount',ascending= False).reset_index().head(10)\n",
        "sector_loan_activity"
      ],
      "metadata": {
        "id": "OFnR8mk-K7Ri"
      },
      "execution_count": null,
      "outputs": []
    },
    {
      "cell_type": "code",
      "source": [
        "plt.figure(figsize = (10,5))\n",
        "# Plot bar chart for hieghst activities loan amount\n",
        "sns.barplot(data=sector_loan_activity, x='activity', y='loan_amount')\n",
        "\n",
        "# Set the labels and title\n",
        "plt.xlabel('Activity')\n",
        "plt.ylabel('Total Loan Amount')\n",
        "plt.title('Agriculture Activities Loan Amount')\n",
        "# Convert y-axis tick labels to millions\n",
        "plt.gca().yaxis.set_major_formatter(plt.FuncFormatter(lambda x, _: f'{x/1e6:.1f}M'))\n",
        "# Show the plot\n",
        "plt.show()"
      ],
      "metadata": {
        "id": "yutVd7A0K9vl"
      },
      "execution_count": null,
      "outputs": []
    },
    {
      "cell_type": "markdown",
      "source": [
        "### Partners:\n",
        "   - Who are the most dominant field partners?\n",
        "   - For each country, What is the number of partners according to sectors?\n"
      ],
      "metadata": {
        "id": "WGt2e922C0zK"
      }
    },
    {
      "cell_type": "markdown",
      "source": [
        "####Who are the most dominant field partners?"
      ],
      "metadata": {
        "id": "rYiMUoV2K_nv"
      }
    },
    {
      "cell_type": "code",
      "source": [
        "kivaloans['partner_id'].value_counts()"
      ],
      "metadata": {
        "id": "cyJhom6NKLwj"
      },
      "execution_count": null,
      "outputs": []
    },
    {
      "cell_type": "markdown",
      "source": [
        "### group_borrower data:\n",
        "   - What is the most sectors have grouped_borrower?\n",
        "   - What is the most countries have grouped_borrower?\n",
        "   - What is the most use have grouped_borrower?\n",
        "   - What is the common repayment intervals for grouped_borrower?\n",
        "   - what is the total loans per year for grouped_borrower?"
      ],
      "metadata": {
        "id": "XY_EYMu1C6ZT"
      }
    },
    {
      "cell_type": "code",
      "source": [
        "partners.sample()"
      ],
      "metadata": {
        "id": "mgbwaFgGLGDG"
      },
      "execution_count": null,
      "outputs": []
    },
    {
      "cell_type": "code",
      "source": [
        "partners[partners['Partner ID']==145]['Field Partner Name']"
      ],
      "metadata": {
        "id": "evHNmn5pLGLv"
      },
      "execution_count": null,
      "outputs": []
    },
    {
      "cell_type": "markdown",
      "source": [
        "####This shows that Negros Women for Tomorrow Foundation (NWTF) institution is the most dominant field partners"
      ],
      "metadata": {
        "id": "4f4N0pf5LNq0"
      }
    },
    {
      "cell_type": "markdown",
      "source": [
        "####For each country, What is the number of partners according to sectors?"
      ],
      "metadata": {
        "id": "fGFUUL26LSs_"
      }
    },
    {
      "cell_type": "code",
      "source": [
        "country_sector_partener= kivaloans.groupby(['country', 'sector'])['partner_id'].count()\\\n",
        "    .sort_values(ascending=False).reset_index(name='count').head(20)\n",
        "country_sector_partener"
      ],
      "metadata": {
        "id": "MSZ2bKsGC-Jl"
      },
      "execution_count": null,
      "outputs": []
    },
    {
      "cell_type": "code",
      "source": [
        "plt.figure(figsize = (10,5))\n",
        "# Plot bar chart for Partners number Per Sector For Each Country\n",
        "sns.barplot(data=country_sector_partener, x='country', y='count', hue='sector')\n",
        "\n",
        "# Set the labels and title\n",
        "plt.xlabel('Country')\n",
        "plt.ylabel('Partners Count')\n",
        "plt.title('Partners number Per Sector For Each Country')\n",
        "# Move the legend outside the plot\n",
        "plt.legend(bbox_to_anchor=(1.05, 1), loc='upper left')\n",
        "plt.xticks(rotation = 75)\n",
        "\n",
        "# Show the plot\n",
        "plt.show()"
      ],
      "metadata": {
        "id": "lqzGFZgDLU2m"
      },
      "execution_count": null,
      "outputs": []
    },
    {
      "cell_type": "markdown",
      "source": [
        "####What are the sectors funded by the most dominant field partners?"
      ],
      "metadata": {
        "id": "2CfdR4gBLcHN"
      }
    },
    {
      "cell_type": "code",
      "source": [
        "top_partner_sectors= kivaloans[kivaloans['partner_id']==145].groupby('sector')['funded_amount'].sum().sort_values(ascending=False).reset_index(name='total')\n",
        "top_partner_sectors"
      ],
      "metadata": {
        "id": "iiYhuzQ6LWNc"
      },
      "execution_count": null,
      "outputs": []
    },
    {
      "cell_type": "code",
      "source": [
        "plt.figure(figsize = (10,5))\n",
        "# Plot bar chart for Partners number Per Sector For Each Country\n",
        "sns.barplot(data=top_partner_sectors, x='sector', y='total')\n",
        "\n",
        "# Set the labels and title\n",
        "plt.xlabel('Sector')\n",
        "plt.ylabel('Total Funded Amount')\n",
        "plt.title('Negros Women for Tomorrow Foundation Total Funded per sectors')\n",
        "# Convert y-axis tick labels to millions\n",
        "plt.gca().yaxis.set_major_formatter(plt.FuncFormatter(lambda x, _: f'{x/1e6:.1f}M'))\n",
        "plt.xticks(rotation = 75)\n",
        "\n",
        "# Show the plot\n",
        "plt.show()"
      ],
      "metadata": {
        "id": "gjvSnKeILexf"
      },
      "execution_count": null,
      "outputs": []
    },
    {
      "cell_type": "markdown",
      "source": [
        "### group_borrower data:\n",
        "   - What is the most sectors have grouped_borrower?\n",
        "   - What is the most countries have grouped_borrower?\n",
        "   - What is the most use have grouped_borrower?\n",
        "   - What is the common repayment intervals for grouped_borrower?\n",
        "   - what is the total loans per year for grouped_borrower?"
      ],
      "metadata": {
        "id": "dieOGq1LLt5G"
      }
    },
    {
      "cell_type": "markdown",
      "source": [
        "####What is the most sectors have grouped_borrower?"
      ],
      "metadata": {
        "id": "z-3nGEyEL0gz"
      }
    },
    {
      "cell_type": "code",
      "source": [
        "kivaloans[kivaloans['borrower_genders']=='both']['sector'].value_counts().sort_values(ascending=False)"
      ],
      "metadata": {
        "id": "JeJCxpGvLgB5"
      },
      "execution_count": null,
      "outputs": []
    },
    {
      "cell_type": "markdown",
      "source": [
        "#####This shows that Grouped borrowered does not related with any sectors"
      ],
      "metadata": {
        "id": "lw0_5ILML-FK"
      }
    },
    {
      "cell_type": "markdown",
      "source": [
        "####What is the most countries have grouped_borrower?"
      ],
      "metadata": {
        "id": "Aw93ZhkVMB0N"
      }
    },
    {
      "cell_type": "code",
      "source": [
        "grouped_borrower= kivaloans[kivaloans['borrower_genders']=='both']['country'].value_counts().sort_values(ascending=False)\\\n",
        ".head(10).reset_index(name='count')\n",
        "grouped_borrower"
      ],
      "metadata": {
        "id": "tMigtrZkL2Yg"
      },
      "execution_count": null,
      "outputs": []
    },
    {
      "cell_type": "code",
      "source": [
        "plt.figure(figsize = (10,5))\n",
        "# Plot bar chart for Grouped Borroer Loans Per Country\n",
        "sns.barplot(data=grouped_borrower, x='index', y='count')\n",
        "\n",
        "# Set the labels and title\n",
        "plt.xlabel('Country')\n",
        "plt.ylabel('Loan Count')\n",
        "plt.title('Grouped Borroer Loans Per Country')\n",
        "plt.xticks(rotation = 75)\n",
        "\n",
        "# Show the plot\n",
        "plt.show()"
      ],
      "metadata": {
        "id": "eJQlgcdjMDhG"
      },
      "execution_count": null,
      "outputs": []
    },
    {
      "cell_type": "markdown",
      "source": [
        "#####This shows the most grouped borrowed loans is  Cambodia, followed by Kenya, which likely due to the decline of the currency against the dollar, as the dollar is equal to 4133.46 Cambodian riyals\n",
        "\n",
        "#####The Total loans amount for one borrower and grouped borrower in both of cambodia and kenya"
      ],
      "metadata": {
        "id": "UtzB4rt7MKuR"
      }
    },
    {
      "cell_type": "code",
      "source": [
        "one_borrower_loan= kivaloans[(kivaloans['borrower_genders']!='both')&(kivaloans['country'].isin(['Cambodia', 'Kenya']))]\n",
        "one_borrower_loan.sample()"
      ],
      "metadata": {
        "id": "fLNYiKAPMFLM"
      },
      "execution_count": null,
      "outputs": []
    },
    {
      "cell_type": "code",
      "source": [
        "group_borrower_loan= kivaloans[(kivaloans['borrower_genders']=='both')&(kivaloans['country'].isin(['Cambodia', 'Kenya']))]\n",
        "group_borrower_loan.sample()"
      ],
      "metadata": {
        "id": "4V0e6AHJMo-h"
      },
      "execution_count": null,
      "outputs": []
    },
    {
      "cell_type": "code",
      "source": [
        "plt.figure(figsize=[15, 10])\n",
        "\n",
        "countries = ['Cambodia', 'Kenya']\n",
        "\n",
        "for i, country in enumerate(countries, start=1):\n",
        "\n",
        "    # Filter data once\n",
        "    one_borrower_data = one_borrower_loan[one_borrower_loan['country'] == country]\n",
        "    group_borrower_data = group_borrower_loan[group_borrower_loan['country'] == country]\n",
        "\n",
        "    # Plot for One borrower\n",
        "    plt.subplot(2, 2, i)\n",
        "    sns.lineplot(data=one_borrower_data, x=one_borrower_data.index.year, y='loan_amount', estimator=sum)\n",
        "    plt.title(f'{country} One Borrower Total Loan Amount Per Year')\n",
        "    plt.xlabel('Year')\n",
        "    plt.ylabel('Loan Amount')\n",
        "    plt.xticks(rotation=75)\n",
        "    plt.gca().yaxis.set_major_formatter(plt.FuncFormatter(lambda x, _: f'{x / 1e6:.1f}M'))\n",
        "\n",
        "    # Plot for Grouped borrowers\n",
        "    plt.subplot(2, 2, i + 2)\n",
        "    sns.lineplot(data=group_borrower_data, x=group_borrower_data.index.year, y='loan_amount', estimator=sum)\n",
        "    plt.title(f'{country} Grouped Borrower Total Loan Amount Per Year')\n",
        "    plt.xlabel('Year')\n",
        "    plt.ylabel('Total Loan Amount')\n",
        "    plt.xticks(rotation=75)\n",
        "    plt.gca().yaxis.set_major_formatter(plt.FuncFormatter(lambda x, _: f'{x / 1e6:.1f}M'))\n",
        "\n",
        "# Display the plots\n",
        "plt.tight_layout()\n",
        "plt.show()"
      ],
      "metadata": {
        "id": "DdfgyuAwRO7g"
      },
      "execution_count": null,
      "outputs": []
    },
    {
      "cell_type": "code",
      "source": [
        "plt.figure(figsize=[15, 10])\n",
        "\n",
        "# Plot for Cambodia - One borrower\n",
        "plt.subplot(2, 2, 1)\n",
        "sns.lineplot(data=one_borrower_loan[one_borrower_loan['country'] == 'Cambodia'],\n",
        "             x=one_borrower_loan[one_borrower_loan['country'] == 'Cambodia'].index.year, y='loan_amount',\n",
        "             estimator=sum)\n",
        "plt.title('Cambodia One Borrower Total Loan Amount Per Year')\n",
        "plt.xlabel('Year')\n",
        "plt.ylabel('Loan Amount')\n",
        "plt.xticks(rotation=75)\n",
        "plt.gca().yaxis.set_major_formatter(plt.FuncFormatter(lambda x, _: f'{x / 1e6:.1f}M'))\n",
        "plt.ylim(0, 8000000)  # Set the same y-axis range for all plots\n",
        "\n",
        "# Plot for Cambodia - Grouped borrowers\n",
        "plt.subplot(2, 2, 2)\n",
        "sns.lineplot(data=group_borrower_loan[group_borrower_loan['country'] == 'Cambodia'],\n",
        "             x=group_borrower_loan[group_borrower_loan['country'] == 'Cambodia'].index.year, y='loan_amount',\n",
        "             estimator=sum)\n",
        "plt.title(\"Cambodia Grouped Borrower Total Loan Amount Per Year\")\n",
        "plt.xlabel('Year')\n",
        "plt.ylabel('Total Loan Amount')\n",
        "plt.xticks(rotation=75)\n",
        "plt.gca().yaxis.set_major_formatter(plt.FuncFormatter(lambda x, _: f'{x / 1e6:.1f}M'))\n",
        "plt.ylim(0, 8000000)  # Set the same y-axis range for all plots\n",
        "\n",
        "# Plot for Kenya - One borrower\n",
        "plt.subplot(2, 2, 3)\n",
        "sns.lineplot(data=one_borrower_loan[one_borrower_loan['country'] == 'Kenya'],\n",
        "             x=one_borrower_loan[one_borrower_loan['country'] == 'Kenya'].index.year, y='loan_amount',\n",
        "             estimator=sum)\n",
        "plt.title('Kenya One Borrower Total Loan Amount Per Year')\n",
        "plt.xlabel('Year')\n",
        "plt.ylabel('Loan Amount')\n",
        "plt.xticks(rotation=75)\n",
        "plt.gca().yaxis.set_major_formatter(plt.FuncFormatter(lambda x, _: f'{x / 1e6:.1f}M'))\n",
        "plt.ylim(0, 8000000)  # Set the same y-axis range for all plots\n",
        "\n",
        "# Plot for Kenya - Grouped borrowers\n",
        "plt.subplot(2, 2, 4)\n",
        "sns.lineplot(data=group_borrower_loan[group_borrower_loan['country'] == 'Kenya'],\n",
        "             x=group_borrower_loan[group_borrower_loan['country'] == 'Kenya'].index.year, y='loan_amount',\n",
        "             estimator=sum)\n",
        "plt.title(\"Kenya Grouped Borrower Total Loan Amount Per Year\")\n",
        "plt.xlabel('Year')\n",
        "plt.ylabel('Total Loan Amount')\n",
        "plt.xticks(rotation=75)\n",
        "plt.gca().yaxis.set_major_formatter(plt.FuncFormatter(lambda x, _: f'{x / 1e6:.1f}M'))\n",
        "plt.ylim(0, 8000000)  # Set the same y-axis range for all plots\n",
        "\n",
        "\n",
        "# Display the plots\n",
        "plt.tight_layout()\n",
        "plt.show()"
      ],
      "metadata": {
        "id": "yD8nO2NJMqVk"
      },
      "execution_count": null,
      "outputs": []
    },
    {
      "cell_type": "markdown",
      "source": [
        "####What is the most use have grouped_borrower?"
      ],
      "metadata": {
        "id": "PEPDIDtZMzNs"
      }
    },
    {
      "cell_type": "code",
      "source": [
        "grouped_borrower_use= kivaloans[kivaloans['borrower_genders']=='both']['use'].value_counts().sort_values(ascending=False)\\\n",
        ".head(10).reset_index(name='count')\n",
        "grouped_borrower_use"
      ],
      "metadata": {
        "id": "7VDORULvMrxy"
      },
      "execution_count": null,
      "outputs": []
    },
    {
      "cell_type": "code",
      "source": [
        "plt.figure(figsize = (10,5))\n",
        "# Plot bar chart for Grouped Borroer Loans Per Country\n",
        "sns.barplot(data=grouped_borrower_use, x='index', y='count')\n",
        "\n",
        "# Set the labels and title\n",
        "plt.xlabel('Use')\n",
        "plt.ylabel('Loan Count')\n",
        "plt.title('Grouped Borroer Loans Most Use')\n",
        "plt.xticks(rotation = 75)\n",
        "\n",
        "# Show the plot\n",
        "plt.show()"
      ],
      "metadata": {
        "id": "Dwc46mD1M286"
      },
      "execution_count": null,
      "outputs": []
    },
    {
      "cell_type": "markdown",
      "source": [
        "####What is the common repayment intervals for grouped_borrower?"
      ],
      "metadata": {
        "id": "VI5JQpnyM9jg"
      }
    },
    {
      "cell_type": "code",
      "source": [
        "grouped_borrower_repay= kivaloans[kivaloans['borrower_genders']=='both']['repayment_interval'].value_counts().sort_values(ascending=False)\\\n",
        ".head(10).reset_index(name='count')\n",
        "grouped_borrower_repay"
      ],
      "metadata": {
        "id": "DT_MSb-jM4Nz"
      },
      "execution_count": null,
      "outputs": []
    },
    {
      "cell_type": "code",
      "source": [
        "plt.figure(figsize = (10,5))\n",
        "# Plot bar chart for Grouped Borroer Loans Per Country\n",
        "sns.barplot(data=grouped_borrower_repay, x='index', y='count')\n",
        "\n",
        "# Set the labels and title\n",
        "plt.xlabel('Repayment interval')\n",
        "plt.ylabel('Loan Count')\n",
        "plt.title('Grouped Borrower Loans Repayment interval')\n",
        "plt.xticks(rotation = 75)\n",
        "\n",
        "# Show the plot\n",
        "plt.show()"
      ],
      "metadata": {
        "id": "CtlrQxMHNEOG"
      },
      "execution_count": null,
      "outputs": []
    },
    {
      "cell_type": "markdown",
      "source": [
        "####what is the total loans per year for grouped_borrower?"
      ],
      "metadata": {
        "id": "aDDpMqNYNLTN"
      }
    },
    {
      "cell_type": "code",
      "source": [
        "group_borrower_total_loan= kivaloans[kivaloans['borrower_genders']=='both']\n",
        "group_borrower_total_loan.sample()"
      ],
      "metadata": {
        "id": "zpvUdtqvNFRP"
      },
      "execution_count": null,
      "outputs": []
    },
    {
      "cell_type": "code",
      "source": [
        "plt.figure(figsize=(10, 5))\n",
        "\n",
        "# Plot line chart for 'loan_amount' with a label\n",
        "sns.lineplot(data=group_borrower_total_loan, x=group_borrower_total_loan.index.year, y='loan_amount',\n",
        "             estimator=sum, label='Total Loan Amount')\n",
        "\n",
        "# Set the labels and title\n",
        "plt.xlabel('Year')\n",
        "plt.ylabel('Loan Amount')\n",
        "plt.title('Grouped Borrower Loan Amount Over Time')\n",
        "\n",
        "# Add legend with labels from the plot\n",
        "plt.legend()\n",
        "\n",
        "# Convert y-axis tick labels to millions\n",
        "plt.gca().yaxis.set_major_formatter(plt.FuncFormatter(lambda x, _: f'{x/1e6:.1f}M'))\n",
        "\n",
        "# Show the plot\n",
        "plt.show()"
      ],
      "metadata": {
        "id": "VLbrDo-cv5ea"
      },
      "execution_count": null,
      "outputs": []
    }
  ]
}